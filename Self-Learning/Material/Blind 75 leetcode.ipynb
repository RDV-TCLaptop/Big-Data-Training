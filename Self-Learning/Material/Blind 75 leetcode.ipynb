{
 "cells": [
  {
   "cell_type": "markdown",
   "id": "7aa30f10-9d67-4c0e-8df9-2779819288ad",
   "metadata": {
    "editable": true,
    "slideshow": {
     "slide_type": ""
    },
    "tags": []
   },
   "source": [
    "## 509. Fibonacci Number\n",
    "The Fibonacci numbers, commonly denoted F(n) form a sequence, called the Fibonacci sequence, such that each number is the sum of the two preceding ones, starting from 0 and 1. That is,\n",
    "\n",
    "F(0) = 0, F(1) = 1\n",
    "F(n) = F(n - 1) + F(n - 2), for n > 1.\n",
    "\n",
    "Given n, calculate F(n).\n",
    "\n",
    "Example 1:\n",
    "Input: n = 2\n",
    "Output: 1\n",
    "Explanation: F(2) = F(1) + F(0) = 1 + 0 = 1.\n",
    "\n",
    "Example 2:\n",
    "Input: n = 3\n",
    "Output: 2\n",
    "Explanation: F(3) = F(2) + F(1) = 1 + 1 = 2.\n",
    "\n",
    "Example 3:\n",
    "Input: n = 4\n",
    "Output: 3\n",
    "Explanation: F(4) = F(3) + F(2) = 2 + 1 = 3.\n"
   ]
  },
  {
   "cell_type": "code",
   "execution_count": null,
   "id": "a454df11-c6d0-4ad9-8294-f7bdc308af19",
   "metadata": {
    "tags": []
   },
   "outputs": [],
   "source": [
    "def fib(n):\n",
    "    if n <=1:\n",
    "        return n\n",
    "    else:\n",
    "        return fib(n-1) + fib(n-2)"
   ]
  },
  {
   "cell_type": "code",
   "execution_count": null,
   "id": "8c73b8e0-bad2-49c1-b267-9aaf3bbb5002",
   "metadata": {
    "tags": []
   },
   "outputs": [],
   "source": [
    "fib(9)"
   ]
  },
  {
   "cell_type": "code",
   "execution_count": null,
   "id": "d96f5bbc-f467-494a-a782-3f3177fe4a06",
   "metadata": {
    "tags": []
   },
   "outputs": [],
   "source": [
    "memo = {0:0, 1:1}\n",
    "def fibonaci(x):\n",
    "    if x in memo:\n",
    "        return memo[x]\n",
    "    else:\n",
    "        memo[x] = fibonaci(x-1) + fibonaci(x-2)\n",
    "        return memo[x]\n",
    "    return memo(x)\n",
    "            "
   ]
  },
  {
   "cell_type": "code",
   "execution_count": null,
   "id": "4f4accc0-da93-437d-9c43-2fca342bfd70",
   "metadata": {
    "tags": []
   },
   "outputs": [],
   "source": [
    "fibonaci(9)"
   ]
  },
  {
   "cell_type": "code",
   "execution_count": null,
   "id": "9ee51d94-1bbd-4e41-bfc4-77497e70fb29",
   "metadata": {},
   "outputs": [],
   "source": [
    "def factorial(n):\n",
    "    memo = {1:1}\n",
    "    if n in memo:\n",
    "        return memo[n]\n",
    "    memo[n] = n * factorial(n-1)\n",
    "    return memo[n]\n",
    "    "
   ]
  },
  {
   "cell_type": "code",
   "execution_count": null,
   "id": "9ccb8d14-0e93-4d70-920c-b45e8eaf5cc3",
   "metadata": {},
   "outputs": [],
   "source": [
    "factorial(5)"
   ]
  },
  {
   "cell_type": "code",
   "execution_count": null,
   "id": "0e3d8b8d-27e1-488d-a81e-a748136d548f",
   "metadata": {},
   "outputs": [],
   "source": [
    "nums = [2, 5, 8, 4, 3]\n",
    "target = 9\n",
    "store = {}"
   ]
  },
  {
   "cell_type": "markdown",
   "id": "59f17fc0-0809-4d7b-9ec7-19134774f0fd",
   "metadata": {},
   "source": [
    "## 1. Two Sum\n",
    "Given an array of integers nums and an integer target, return indices of the two numbers such that they add up to target.\n",
    "\n",
    "You may assume that each input would have exactly one solution, and you may not use the same element twice.\n",
    "\n",
    "You can return the answer in any order.\n",
    "\n",
    "Example 1:\n",
    "\n",
    "Input: nums = [2,7,11,15], target = 9\n",
    "Output: [0,1]\n",
    "Explanation: Because nums[0] + nums[1] == 9, we return [0, 1].\n",
    "\n",
    "Example 2:\n",
    "\n",
    "Input: nums = [3,2,4], target = 6\n",
    "Output: [1,2]\n",
    "\n",
    "Example 3:\n",
    "\n",
    "Input: nums = [3,3], target = 6\n",
    "Output: [0,1]\n"
   ]
  },
  {
   "cell_type": "code",
   "execution_count": 4,
   "id": "72899c28-0458-46ff-b406-fa6dfdebf786",
   "metadata": {
    "tags": []
   },
   "outputs": [],
   "source": [
    "def two_sum(nums, target):\n",
    "    store = {}\n",
    "    for i, v in enumerate(nums):\n",
    "        diff = target - v\n",
    "        if diff in store:\n",
    "            return [store[diff], i]\n",
    "        store[v] = i # {2: 0} {2: 0, 5: 1} {2: 0, 5: 1, 8: 2}\n",
    "    return"
   ]
  },
  {
   "cell_type": "code",
   "execution_count": 5,
   "id": "ded920e8-333e-4c60-acc6-5bbbcb1b245c",
   "metadata": {
    "tags": []
   },
   "outputs": [
    {
     "data": {
      "text/plain": [
       "[0, 1]"
      ]
     },
     "execution_count": 5,
     "metadata": {},
     "output_type": "execute_result"
    }
   ],
   "source": [
    "nums = [2,7,11,15]\n",
    "target = 9\n",
    "two_sum(nums, target)"
   ]
  },
  {
   "cell_type": "code",
   "execution_count": null,
   "id": "334049ac-289c-44f5-8d30-3c5a2ad2048d",
   "metadata": {},
   "outputs": [],
   "source": []
  },
  {
   "cell_type": "code",
   "execution_count": 6,
   "id": "9cb2971e-9eb2-46e9-8008-e459cff9e9e1",
   "metadata": {
    "tags": []
   },
   "outputs": [
    {
     "data": {
      "text/plain": [
       "'123'"
      ]
     },
     "execution_count": 6,
     "metadata": {},
     "output_type": "execute_result"
    }
   ],
   "source": [
    "x = 321\n",
    "reverse = str(x)[::-1]\n",
    "reverse"
   ]
  },
  {
   "cell_type": "code",
   "execution_count": null,
   "id": "7a9b1a2e-d37b-4c14-b972-42bb0a3f9440",
   "metadata": {
    "tags": []
   },
   "outputs": [],
   "source": [
    "k = 121"
   ]
  },
  {
   "cell_type": "code",
   "execution_count": null,
   "id": "20cddac5-1287-4b86-8111-ca732eec0df3",
   "metadata": {
    "tags": []
   },
   "outputs": [],
   "source": [
    "k == str(k)[::-1]"
   ]
  },
  {
   "cell_type": "code",
   "execution_count": null,
   "id": "c64531ea-c26c-4d51-94cd-cafd621ecdbf",
   "metadata": {
    "tags": []
   },
   "outputs": [],
   "source": [
    "str(k)[::-1]"
   ]
  },
  {
   "cell_type": "markdown",
   "id": "dc725dad-22b0-4612-b725-1aa7100c7d8e",
   "metadata": {},
   "source": [
    "## 13. Roman to Integer\n",
    "Roman numerals are represented by seven different symbols: I, V, X, L, C, D and M.\n",
    "\n",
    "Symbol       Value\n",
    "I             1\n",
    "V             5\n",
    "X             10\n",
    "L             50\n",
    "C             100\n",
    "D             500\n",
    "M             1000\n",
    "\n",
    "For example, 2 is written as II in Roman numeral, just two ones added together. 12 is written as XII, which is simply X + II. The number 27 is written as XXVII, which is XX + V + II.\n",
    "\n",
    "Roman numerals are usually written largest to smallest from left to right. However, the numeral for four is not IIII. Instead, the number four is written as IV. Because the one is before the five we subtract it making four. The same principle applies to the number nine, which is written as IX. There are six instances where subtraction is used:\n",
    "\n",
    "    I can be placed before V (5) and X (10) to make 4 and 9. \n",
    "    X can be placed before L (50) and C (100) to make 40 and 90. \n",
    "    C can be placed before D (500) and M (1000) to make 400 and 900.\n",
    "\n",
    "Given a roman numeral, convert it to an integer.\n",
    "\n",
    "Example 1:\n",
    "Input: s = \"III\"\n",
    "Output: 3\n",
    "Explanation: III = 3.\n",
    "\n",
    "Example 2:\n",
    "Input: s = \"LVIII\"\n",
    "Output: 58\n",
    "Explanation: L = 50, V= 5, III = 3.\n",
    "\n",
    "Example 3:\n",
    "Input: s = \"MCMXCIV\"\n",
    "Output: 1994\n",
    "Explanation: M = 1000, CM = 900, XC = 90 and IV = 4.\n"
   ]
  },
  {
   "cell_type": "code",
   "execution_count": 5,
   "id": "9904d0be-698c-4756-9305-0e9e2f3791d7",
   "metadata": {
    "tags": []
   },
   "outputs": [],
   "source": [
    "numerals = {'I': 1, 'V': 5, 'X': 10, 'L': 50, 'C': 100, 'D': 500, 'M': 1000}\n",
    "res = 0\n",
    "l = \"MCMXCIV\""
   ]
  },
  {
   "cell_type": "code",
   "execution_count": 6,
   "id": "0122420f-046f-44f5-b688-fb1e0eb7ebad",
   "metadata": {
    "tags": []
   },
   "outputs": [],
   "source": [
    "def roman_numerals(s):\n",
    "    numerals = {'I': 1, 'V': 5, 'X': 10, 'L': 50, 'C': 100, 'D': 500, 'M': 1000}\n",
    "    res = 0\n",
    "    for i in range(len(s)):\n",
    "        if i +1 < len(s) and numerals[s[i]] < numerals[s[i+1]]:\n",
    "            res -= numerals[s[i]]\n",
    "        else:\n",
    "            res += numerals[s[i]]\n",
    "    return print(res)"
   ]
  },
  {
   "cell_type": "code",
   "execution_count": 7,
   "id": "0831f82c-848e-4d38-9b6b-4a1f7712e0bc",
   "metadata": {
    "tags": []
   },
   "outputs": [
    {
     "name": "stdout",
     "output_type": "stream",
     "text": [
      "1994\n"
     ]
    }
   ],
   "source": [
    "roman_numerals(l)"
   ]
  },
  {
   "cell_type": "code",
   "execution_count": null,
   "id": "f357bd9b-2f3d-4958-920a-6b66dbcb7da1",
   "metadata": {
    "tags": []
   },
   "outputs": [],
   "source": [
    "numerals[s[i]]"
   ]
  },
  {
   "cell_type": "markdown",
   "id": "c74fbc2b-37af-46cf-b43a-23cdbb2e445c",
   "metadata": {},
   "source": [
    "## 14. Longest Common Prefix\n",
    "Write a function to find the longest common prefix string amongst an array of strings.\n",
    "If there is no common prefix, return an empty string \"\".\n",
    "\n",
    "Example 1:\n",
    "Input: strs = [\"flower\",\"flow\",\"flight\"]\n",
    "Output: \"fl\"\n",
    "\n",
    "Example 2:\n",
    "Input: strs = [\"dog\",\"racecar\",\"car\"]\n",
    "Output: \"\"\n",
    "Explanation: There is no common prefix among the input strings.\n"
   ]
  },
  {
   "cell_type": "code",
   "execution_count": null,
   "id": "ae0a2054-0a9a-4f3b-9c09-7ad183ca5f76",
   "metadata": {
    "tags": []
   },
   "outputs": [],
   "source": [
    "def long_comm_prefix(strs):\n",
    "    prefix = \"\"\n",
    "    first_string = strs[0]\n",
    "    for i in range(len(first_string)):\n",
    "        char = first_string[i]\n",
    "        for string in strs:\n",
    "            if i >= len(string) or string[i] != char:\n",
    "                return prefix\n",
    "        prefix += char\n",
    "    return prefix"
   ]
  },
  {
   "cell_type": "code",
   "execution_count": null,
   "id": "da4ab519-ba99-4280-86e7-1e9a6f4f29dc",
   "metadata": {
    "tags": []
   },
   "outputs": [],
   "source": [
    "strings = [\"flower\",\"flow\",\"flight\"]"
   ]
  },
  {
   "cell_type": "code",
   "execution_count": null,
   "id": "38bbbdeb-0800-407e-a960-80c909ec40a6",
   "metadata": {
    "tags": []
   },
   "outputs": [],
   "source": [
    "sorted(strings)"
   ]
  },
  {
   "cell_type": "code",
   "execution_count": null,
   "id": "07ab1822-a773-4ce7-8a33-2db8dd114a76",
   "metadata": {
    "tags": []
   },
   "outputs": [],
   "source": [
    "long_comm_prefix(strings)"
   ]
  },
  {
   "cell_type": "code",
   "execution_count": null,
   "id": "7a125f53-62f7-40ce-9235-3f2acfb6f4d6",
   "metadata": {
    "tags": []
   },
   "outputs": [],
   "source": [
    "\n",
    "    def longestCommonPrefix(strs):\n",
    "        ans=\"\"\n",
    "        list=sorted(strs)\n",
    "        first=list[0]\n",
    "        last=list[-1]\n",
    "\n",
    "        for i in range(min(len(first),len(last))):\n",
    "            if(first[i]!=last[i]):\n",
    "                return ans\n",
    "            ans+=first[i]\n",
    "        return ans"
   ]
  },
  {
   "cell_type": "code",
   "execution_count": null,
   "id": "c3e299e2-23a6-45d3-b1df-d7e6e3eeca5d",
   "metadata": {
    "tags": []
   },
   "outputs": [],
   "source": [
    "s = \"()[]{}\"\n",
    "for i in s:\n",
    "    print(i)"
   ]
  },
  {
   "cell_type": "markdown",
   "id": "3dcea486-7dfe-4453-a34d-92af7742cbc4",
   "metadata": {},
   "source": [
    "## 20. Valid Parentheses\n",
    "Given a string s containing just the characters '(', ')', '{', '}', '[' and ']', determine if the input string is valid.\n",
    "\n",
    "An input string is valid if:\n",
    "\n",
    "    1. Open brackets must be closed by the same type of brackets.\n",
    "    2. Open brackets must be closed in the correct order.\n",
    "    3. Every close bracket has a corresponding open bracket of the same type.\n",
    "\n",
    "Example 1:\n",
    "Input: s = \"()\"\n",
    "Output: true\n",
    "\n",
    "Example 2:\n",
    "Input: s = \"()[]{}\"\n",
    "Output: true\n",
    "\n",
    "Example 3:\n",
    "Input: s = \"(]\"\n",
    "Output: false\n"
   ]
  },
  {
   "cell_type": "code",
   "execution_count": null,
   "id": "4c11091b-b3e7-4781-b125-9416d41ca970",
   "metadata": {
    "tags": []
   },
   "outputs": [],
   "source": [
    "def validParenthesis(r):\n",
    "    stack = []\n",
    "    store = {')': '(', '}': '{', ']': '['}\n",
    "    for p in r:\n",
    "        if p in store.values(): #means p is an opening parenthesis \n",
    "            stack.append(p)   #we add p to the stack \n",
    "        elif stack and store[p] == stack[- 1]: #if not empty (stack), check if values are equal\n",
    "            stack.pop() #essentially removing the open parenthesis, note: in this case p isn't saved in stack\n",
    "        else:\n",
    "            return False\n",
    "    return stack == [] #empty list returns False"
   ]
  },
  {
   "cell_type": "code",
   "execution_count": null,
   "id": "0b8c86ae-b1e0-44da-96b9-fe00b689e9b0",
   "metadata": {
    "tags": []
   },
   "outputs": [],
   "source": [
    "s = \"()[]{}\"\n",
    "validParenthesis(s)"
   ]
  },
  {
   "cell_type": "markdown",
   "id": "0be96eaf-eb41-4e55-b133-bb126940ec91",
   "metadata": {},
   "source": [
    "## 217. Contains Duplicate\n",
    "Given an integer array nums, return true if any value appears at least twice in the array, and return false if every element is distinct.\n",
    "\n",
    " \n",
    "\n",
    "Example 1:\n",
    "\n",
    "Input: nums = [1,2,3,1]\n",
    "Output: true\n",
    "\n",
    "Example 2:\n",
    "\n",
    "Input: nums = [1,2,3,4]\n",
    "Output: false\n",
    "\n",
    "Example 3:\n",
    "\n",
    "Input: nums = [1,1,1,3,3,4,3,2,4,2]\n",
    "Output: true\n"
   ]
  },
  {
   "cell_type": "code",
   "execution_count": null,
   "id": "3d4ea3ec-9923-4e91-b962-8be94303e2e0",
   "metadata": {},
   "outputs": [],
   "source": [
    "def duplicates(nums):\n",
    "    hashset = set()\n",
    "    for a in nums:\n",
    "        if a in hashset:\n",
    "            return True\n",
    "        hashset.add(a)\n",
    "    return False\n",
    "    "
   ]
  },
  {
   "cell_type": "code",
   "execution_count": null,
   "id": "a15cb35b-e686-478e-a39a-878c462c1ba7",
   "metadata": {
    "tags": []
   },
   "outputs": [],
   "source": [
    "num1 = [1, 5, 6, 1]\n",
    "num2 = [14, 12, 8, 7]\n",
    "duplicates(num2)"
   ]
  },
  {
   "cell_type": "code",
   "execution_count": null,
   "id": "f03a5dd4-a7cb-43cf-a5be-b581882901f6",
   "metadata": {
    "tags": []
   },
   "outputs": [],
   "source": [
    "duplicates(num1)"
   ]
  },
  {
   "cell_type": "markdown",
   "id": "62bae6b5-c3a6-413e-b803-6bbe6aaa54e0",
   "metadata": {},
   "source": [
    "## 242. Valid Anagram\n",
    "Given two strings s and t, return true if t is an anagram of s, and false otherwise.\n",
    "\n",
    "An Anagram is a word or phrase formed by rearranging the letters of a different word or phrase, typically using all the original letters exactly once.\n",
    "\n",
    " \n",
    "\n",
    "Example 1:\n",
    "\n",
    "Input: s = \"anagram\", t = \"nagaram\"\n",
    "Output: true\n",
    "\n",
    "Example 2:\n",
    "\n",
    "Input: s = \"rat\", t = \"car\"\n",
    "Output: false\n"
   ]
  },
  {
   "cell_type": "code",
   "execution_count": null,
   "id": "d5fb839f-7093-4164-85ea-8c342f79af8d",
   "metadata": {
    "tags": []
   },
   "outputs": [],
   "source": [
    "def isAnagram(s: str, t: str):\n",
    "        countS, countT = {}, {}\n",
    "        for i in range(len(s)):\n",
    "            countS[s[i]] = 1 + countS.get(s[i], 0)\n",
    "            countT[t[i]] = 1 + countT.get(t[i], 0)\n",
    "        for k in countS:\n",
    "            if countS[k] != countT.get(k, 0):\n",
    "                return False\n",
    "        return True"
   ]
  },
  {
   "cell_type": "code",
   "execution_count": null,
   "id": "9a5eb94b-365a-4068-953a-f4c2e5053bfc",
   "metadata": {
    "tags": []
   },
   "outputs": [],
   "source": [
    "s = \"anagram\"\n",
    "t = \"nagaram\"\n",
    "isAnagram(s,t)"
   ]
  },
  {
   "cell_type": "markdown",
   "id": "959d2662-7006-4e1d-a35d-e389a4b8d755",
   "metadata": {},
   "source": [
    "## 49. Group Anagrams\n",
    "Given an array of strings strs, group the anagrams together. You can return the answer in any order.\n",
    "\n",
    "An Anagram is a word or phrase formed by rearranging the letters of a different word or phrase, typically using all the original letters exactly once.\n",
    "\n",
    " \n",
    "\n",
    "Example 1:\n",
    "\n",
    "Input: strs = [\"eat\",\"tea\",\"tan\",\"ate\",\"nat\",\"bat\"]\n",
    "Output: [[\"bat\"],[\"nat\",\"tan\"],[\"ate\",\"eat\",\"tea\"]]\n",
    "\n",
    "Example 2:\n",
    "\n",
    "Input: strs = [\"\"]\n",
    "Output: [[\"\"]]\n",
    "\n",
    "Example 3:\n",
    "\n",
    "Input: strs = [\"a\"]\n",
    "Output: [[\"a\"]]\n"
   ]
  },
  {
   "cell_type": "code",
   "execution_count": 7,
   "id": "3e8e2639-e7d6-4d40-9a0f-95e7102dc518",
   "metadata": {
    "tags": []
   },
   "outputs": [],
   "source": [
    "from collections import defaultdict"
   ]
  },
  {
   "cell_type": "code",
   "execution_count": 8,
   "id": "1758c05e-6bfe-44d1-a438-d8e43acbecab",
   "metadata": {
    "tags": []
   },
   "outputs": [],
   "source": [
    "def groupAnagram(lists):\n",
    "    res = defaultdict(list)\n",
    "    for b in lists:\n",
    "        count = [0] *26\n",
    "        for c in b:\n",
    "            count[ord(c) -ord('a')] +=1  #{(1, 0, 0, 0, 1, 0, 0, 0, 0, 0, 0, 0, 0, 0, 0, 0, 0, 0, 0, 1, 0, 0, 0, 0, 0, 0): ['eat']}\n",
    "        res[tuple(count)].append(b) #we turn it into a tuple because tuples are immutable, and acts as a key for the dictionary\n",
    "        #if a word has the same number of letters as already exists, we just append it instead of creating a new key\n",
    "    return res.values()\n",
    "##{(1, 0, 0, 0, 1, 0, 0, 0, 0, 0, 0, 0, 0, 0, 0, 0, 0, 0, 0, 1, 0, 0, 0, 0, 0, 0): ['eat', 'tea'], (1, 0, 0, 0, 0, 0, 0, 0, 0, 0, 0, 0, 0, 1, 0, 0, 0, 0, 0, 1, 0, 0, 0, 0, 0, 0): ['tan']}"
   ]
  },
  {
   "cell_type": "code",
   "execution_count": 9,
   "id": "7163378b-5411-4f38-84b3-419067d19acd",
   "metadata": {
    "tags": []
   },
   "outputs": [
    {
     "data": {
      "text/plain": [
       "dict_values([['eat', 'tea', 'ate'], ['tan', 'nat'], ['bat']])"
      ]
     },
     "execution_count": 9,
     "metadata": {},
     "output_type": "execute_result"
    }
   ],
   "source": [
    "strs = [\"eat\",\"tea\",\"tan\",\"ate\",\"nat\",\"bat\"]\n",
    "groupAnagram(strs)"
   ]
  },
  {
   "cell_type": "markdown",
   "id": "7c127367-2b00-4dd1-b8cf-f39b3856d4e8",
   "metadata": {},
   "source": [
    "## 347. Top K Frequent Elements\n",
    "Given an integer array nums and an integer k, return the k most frequent elements. You may return the answer in any order.\n",
    "\n",
    " \n",
    "\n",
    "Example 1:\n",
    "\n",
    "Input: nums = [1,1,1,2,2,3], k = 2\n",
    "Output: [1,2]\n",
    "\n",
    "Example 2:\n",
    "\n",
    "Input: nums = [1], k = 1\n",
    "Output: [1]\n",
    "\n",
    " \n",
    "\n",
    "Constraints:\n",
    "\n",
    "    1 <= nums.length <= 105\n",
    "    -104 <= nums[i] <= 104\n",
    "    k is in the range [1, the number of unique elements in the array].\n",
    "    It is guaranteed that the answer is unique.\n",
    "\n",
    " \n",
    "\n",
    "Follow up: Your algorithm's time complexity must be better than O(n log n), where n is the array's size"
   ]
  },
  {
   "cell_type": "code",
   "execution_count": 3,
   "id": "c257581d-dc3d-4e36-9bc0-78313896576e",
   "metadata": {
    "tags": []
   },
   "outputs": [],
   "source": [
    "def topK(nums, k):\n",
    "    count = {}\n",
    "    freq = [[] for i in range(len(nums) + 1)]\n",
    "    for n in nums:\n",
    "        count[n] = count.get(n, 0) +1   #result is {1: 3, 4: 1, 2: 2, 3: 1}\n",
    "    for n, c in count.items(): #going through each value\n",
    "        freq[c].append(n) #freq is [[], [4, 3], [2], [1], [], [], [], []]\n",
    "    res = []\n",
    "    for i in range(len(freq) -1, 0, -1): #decreament by 1\n",
    "        for n in freq[i]:\n",
    "            res.append(n)\n",
    "            if len(res) == k:\n",
    "                return res\n",
    "    "
   ]
  },
  {
   "cell_type": "code",
   "execution_count": 4,
   "id": "b485276e-f95d-4cd8-ba9a-33699164464f",
   "metadata": {
    "tags": []
   },
   "outputs": [
    {
     "data": {
      "text/plain": [
       "[1, 2]"
      ]
     },
     "execution_count": 4,
     "metadata": {},
     "output_type": "execute_result"
    }
   ],
   "source": [
    "nums = [1,1,1,4,2,2,3]\n",
    "k = 2\n",
    "topK(nums, k)"
   ]
  },
  {
   "cell_type": "markdown",
   "id": "bc45f378-22bc-4029-879b-56ab85692cba",
   "metadata": {},
   "source": [
    "## 88. Merge Sorted Array\n",
    "You are given two integer arrays nums1 and nums2, sorted in non-decreasing order, and two integers m and n, representing the number of elements in nums1 and nums2 respectively.\n",
    "\n",
    "Merge nums1 and nums2 into a single array sorted in non-decreasing order.\n",
    "\n",
    "The final sorted array should not be returned by the function, but instead be stored inside the array nums1. To accommodate this, nums1 has a length of m + n, where the first m elements denote the elements that should be merged, and the last n elements are set to 0 and should be ignored. nums2 has a length of n.\n",
    "\n",
    " \n",
    "\n",
    "Example 1:\n",
    "\n",
    "Input: nums1 = [1,2,3,0,0,0], m = 3, nums2 = [2,5,6], n = 3\n",
    "Output: [1,2,2,3,5,6]\n",
    "Explanation: The arrays we are merging are [1,2,3] and [2,5,6].\n",
    "The result of the merge is [1,2,2,3,5,6] with the underlined elements coming from nums1.\n",
    "\n",
    "Example 2:\n",
    "\n",
    "Input: nums1 = [1], m = 1, nums2 = [], n = 0\n",
    "Output: [1]\n",
    "Explanation: The arrays we are merging are [1] and [].\n",
    "The result of the merge is [1].\n",
    "\n",
    "Example 3:\n",
    "\n",
    "Input: nums1 = [0], m = 0, nums2 = [1], n = 1\n",
    "Output: [1]\n",
    "Explanation: The arrays we are merging are [] and [1].\n",
    "The result of the merge is [1].\n",
    "Note that because m = 0, there are no elements in nums1. The 0 is only there to ensure the merge result can fit in nums1.\n"
   ]
  },
  {
   "cell_type": "code",
   "execution_count": null,
   "id": "3c23c4e7-fc84-48e6-a4eb-b9b029e36c52",
   "metadata": {
    "tags": []
   },
   "outputs": [],
   "source": [
    "a1 = [1,2,4]\n",
    "b2 = [1,3,4]"
   ]
  },
  {
   "cell_type": "code",
   "execution_count": null,
   "id": "3488fe9f-6079-47e3-bdd7-62718cecdf4d",
   "metadata": {
    "tags": []
   },
   "outputs": [],
   "source": [
    "def merge(list1, list2):\n",
    "    g, h = 0,0\n",
    "    res = []\n",
    "    while g < len(list1) and h < len(list2):\n",
    "        if list1[g] <= list2[h]:\n",
    "            res.append(list1[g])\n",
    "            g += 1\n",
    "        elif list1[g] >= list2[h]:\n",
    "            res.append(list2[h])\n",
    "            h += 1\n",
    "    return res + list1[g:] + list2[h:]"
   ]
  },
  {
   "cell_type": "code",
   "execution_count": null,
   "id": "2a0efe22-75b5-4925-a8ae-b458254ce751",
   "metadata": {
    "tags": []
   },
   "outputs": [],
   "source": [
    "merge(a1, b2)"
   ]
  },
  {
   "cell_type": "code",
   "execution_count": null,
   "id": "1a64b9a8-81d2-421f-9298-6b2cbe6826b4",
   "metadata": {
    "tags": []
   },
   "outputs": [],
   "source": [
    "m = [0,0,1,1,1,2,2,3,3,4]\n",
    "m2 = [1,1,2]"
   ]
  },
  {
   "cell_type": "markdown",
   "id": "c4308eae-5a9c-4992-a091-02bde9c67759",
   "metadata": {},
   "source": [
    "## 26. Remove Duplicates from Sorted Array\n",
    "Given an integer array nums sorted in non-decreasing order, remove the duplicates in-place such that each unique element appears only once. The relative order of the elements should be kept the same. Then return the number of unique elements in nums.\n",
    "\n",
    "Consider the number of unique elements of nums to be k, to get accepted, you need to do the following things:\n",
    "\n",
    "    Change the array nums such that the first k elements of nums contain the unique elements in the order they were present in nums initially. The remaining elements of nums are not important as well as the size of nums.\n",
    "    Return k.\n",
    "\n",
    "Custom Judge:\n",
    "\n",
    "The judge will test your solution with the following code:\n",
    "\n",
    "int[] nums = [...]; // Input array\n",
    "int[] expectedNums = [...]; // The expected answer with correct length\n",
    "\n",
    "int k = removeDuplicates(nums); // Calls your implementation\n",
    "\n",
    "assert k == expectedNums.length;\n",
    "for (int i = 0; i < k; i++) {\n",
    "    assert nums[i] == expectedNums[i];\n",
    "}\n",
    "\n",
    "If all assertions pass, then your solution will be accepted\n",
    "\n",
    "Example 1:\n",
    "\n",
    "Input: nums = [1,1,2]\n",
    "\n",
    "Output: 2, nums = [1,2,_]\n",
    "\n",
    "Explanation: Your function should return k = 2, with the first two elements of nums being 1 and 2 respectively.\n",
    "\n",
    "It does not matter what you leave beyond the returned k (hence they are underscores).\n",
    "\n",
    "Example 2:\n",
    "\n",
    "Input: nums = [0,0,1,1,1,2,2,3,3,4]\n",
    "\n",
    "Output: 5, nums = [0,1,2,3,4,_,_,_,_,_]\n",
    "\n",
    "Explanation: Your function should return k = 5, with the first five elements of nums being 0, 1, 2, 3, and 4 respectively.\n",
    "\n",
    "It does not matter what you leave beyond the returned k (hence they are underscores).\n"
   ]
  },
  {
   "cell_type": "code",
   "execution_count": 1,
   "id": "b3dfc4eb-1192-45cf-a51c-87439509e684",
   "metadata": {
    "tags": []
   },
   "outputs": [],
   "source": [
    "def removeDuplicates(nums):\n",
    "    l = 1\n",
    "    for r in range(1, len(nums)):\n",
    "        if nums[r] != nums[r-1]:\n",
    "            nums[l] = nums[r]\n",
    "            l +=1\n",
    "    return l"
   ]
  },
  {
   "cell_type": "code",
   "execution_count": 2,
   "id": "d86c774f-2376-4b9a-942d-5d1482df6d9b",
   "metadata": {
    "tags": []
   },
   "outputs": [
    {
     "data": {
      "text/plain": [
       "5"
      ]
     },
     "execution_count": 2,
     "metadata": {},
     "output_type": "execute_result"
    }
   ],
   "source": [
    "nums = [0,0,1,1,1,2,2,3,3,4]\n",
    "removeDuplicates(nums)"
   ]
  },
  {
   "cell_type": "markdown",
   "id": "a23a126c-082b-435e-bbce-9b55396c9ead",
   "metadata": {},
   "source": [
    "## 27. Remove Element\n",
    "Given an integer array nums and an integer val, remove all occurrences of val in nums in-place. The order of the elements may be changed. Then return the number of elements in nums which are not equal to val.\n",
    "\n",
    "Consider the number of elements in nums which are not equal to val be k, to get accepted, you need to do the following things:\n",
    "\n",
    "    Change the array nums such that the first k elements of nums contain the elements which are not equal to val. The remaining elements of nums are not important as well as the size of nums.\n",
    "    Return k.\n",
    "\n",
    "Custom Judge:\n",
    "\n",
    "The judge will test your solution with the following code:\n",
    "\n",
    "int[] nums = [...]; // Input array\n",
    "int val = ...; // Value to remove\n",
    "int[] expectedNums = [...]; // The expected answer with correct length.\n",
    "                            // It is sorted with no values equaling val.\n",
    "\n",
    "int k = removeElement(nums, val); // Calls your implementation\n",
    "\n",
    "assert k == expectedNums.length;\n",
    "sort(nums, 0, k); // Sort the first k elements of nums\n",
    "\n",
    "for (int i = 0; i < actualLength; i++) {\n",
    "    assert nums[i] == expectedNums[i];\n",
    "}\n",
    "\n",
    "If all assertions pass, then your solution will be accepted."
   ]
  },
  {
   "cell_type": "code",
   "execution_count": 5,
   "id": "93e4672f-7451-4995-9f22-da5bf979874f",
   "metadata": {
    "tags": []
   },
   "outputs": [],
   "source": [
    "def removeElement(nums, val):\n",
    "    l = 0\n",
    "    for r in range(len(nums)):\n",
    "        if nums[r] != val:\n",
    "            nums[l] = nums[r]\n",
    "            l +=1\n",
    "    return l"
   ]
  },
  {
   "cell_type": "code",
   "execution_count": 6,
   "id": "5e5d7c68-5548-4727-884a-895c5e75eec1",
   "metadata": {
    "tags": []
   },
   "outputs": [
    {
     "data": {
      "text/plain": [
       "2"
      ]
     },
     "execution_count": 6,
     "metadata": {},
     "output_type": "execute_result"
    }
   ],
   "source": [
    "nums = [3,2,2,3]\n",
    "val = 3\n",
    "removeElement(nums, val)"
   ]
  },
  {
   "cell_type": "markdown",
   "id": "7ffeab95-c9b2-4f48-9bb4-6b9febb0fa9f",
   "metadata": {},
   "source": [
    "## Find the Index of the First Occurance in a String\n",
    "Given two strings needle and haystack, return the index of the first occurrence of needle in haystack, or -1 if needle is not part of haystack.\n",
    "\n",
    " \n",
    "\n",
    "Example 1:\n",
    "\n",
    "Input: haystack = \"sadbutsad\", needle = \"sad\"\n",
    "Output: 0\n",
    "Explanation: \"sad\" occurs at index 0 and 6.\n",
    "The first occurrence is at index 0, so we return 0.\n",
    "\n",
    "Example 2:\n",
    "\n",
    "Input: haystack = \"leetcode\", needle = \"leeto\"\n",
    "Output: -1\n",
    "Explanation: \"leeto\" did not occur in \"leetcode\", so we return -1.\n"
   ]
  },
  {
   "cell_type": "code",
   "execution_count": null,
   "id": "c274dcc9-2b66-4b22-bb2c-00051056903b",
   "metadata": {
    "tags": []
   },
   "outputs": [],
   "source": [
    "haystack = \"leetcode\"\n",
    "needle = \"code\""
   ]
  },
  {
   "cell_type": "code",
   "execution_count": 8,
   "id": "cb1c66c1-56e8-42f2-8a67-3491185b556a",
   "metadata": {},
   "outputs": [],
   "source": [
    "def findIndex(haystack, needle):\n",
    "    i, j = 0, 0\n",
    "    while i < len(haystack) and j < len(needle):\n",
    "        start = i\n",
    "        while i < len(haystack) and j < len(needle) and haystack[i] == needle[j]:\n",
    "            i += 1\n",
    "            j += 1\n",
    "        if j == len(needle):\n",
    "            return start\n",
    "        i = start + 1\n",
    "        j = 0\n",
    "    return -1\n",
    "    "
   ]
  },
  {
   "cell_type": "code",
   "execution_count": 9,
   "id": "80a4cd0b-32dd-4110-ae5c-3c4d04e6f788",
   "metadata": {},
   "outputs": [
    {
     "data": {
      "text/plain": [
       "0"
      ]
     },
     "execution_count": 9,
     "metadata": {},
     "output_type": "execute_result"
    }
   ],
   "source": [
    "hystk = \"sadbutsad\"\n",
    "ndl = \"sad\"\n",
    "findIndex(hystk, ndl)"
   ]
  },
  {
   "cell_type": "code",
   "execution_count": null,
   "id": "91c2cd19-961a-41fa-b6db-1fda4e062b04",
   "metadata": {},
   "outputs": [],
   "source": []
  },
  {
   "cell_type": "code",
   "execution_count": 10,
   "id": "446191d1-214a-40fa-b000-188ca19171d1",
   "metadata": {
    "tags": []
   },
   "outputs": [],
   "source": [
    "def findIndex(haystack, needle):\n",
    "    if haystack == '':\n",
    "        return 0\n",
    "    for d in range(len(haystack) +1 -len(needle)):\n",
    "        if haystack[d: d +len(needle)] == needle:\n",
    "            return d\n",
    "    return -1"
   ]
  },
  {
   "cell_type": "code",
   "execution_count": 11,
   "id": "523fc5e6-4e1d-4c70-9a30-c110af8ce20d",
   "metadata": {
    "tags": []
   },
   "outputs": [
    {
     "data": {
      "text/plain": [
       "0"
      ]
     },
     "execution_count": 11,
     "metadata": {},
     "output_type": "execute_result"
    }
   ],
   "source": [
    "findIndex(hystk, ndl)"
   ]
  },
  {
   "cell_type": "code",
   "execution_count": 12,
   "id": "f29def29-9c75-4bae-88fb-96207c166022",
   "metadata": {
    "tags": []
   },
   "outputs": [],
   "source": [
    "def findIndex2(haystack, needle):\n",
    "    if needle in haystack:\n",
    "        return haystack.find(needle)\n",
    "    return -1"
   ]
  },
  {
   "cell_type": "code",
   "execution_count": 13,
   "id": "b222c92d-59a9-4d30-9517-e559420c8d29",
   "metadata": {
    "tags": []
   },
   "outputs": [
    {
     "data": {
      "text/plain": [
       "4"
      ]
     },
     "execution_count": 13,
     "metadata": {},
     "output_type": "execute_result"
    }
   ],
   "source": [
    "haystack = \"leetcode\"\n",
    "needle = \"code\"\n",
    "findIndex(haystack, needle)"
   ]
  },
  {
   "cell_type": "code",
   "execution_count": 7,
   "id": "4ca394ef-9aa1-48ba-8522-1d0ee65b16ff",
   "metadata": {},
   "outputs": [
    {
     "data": {
      "text/plain": [
       "4"
      ]
     },
     "execution_count": 7,
     "metadata": {},
     "output_type": "execute_result"
    }
   ],
   "source": [
    "nums = [0,0,1,1,1,2,2,3,3,4]\n",
    "nums[-1]"
   ]
  },
  {
   "cell_type": "markdown",
   "id": "5d7b0176-d812-4a8c-8406-e37b5241c70e",
   "metadata": {},
   "source": [
    "## 70. Climbing Stairs\n",
    "You are climbing a staircase. It takes n steps to reach the top.\n",
    "\n",
    "Each time you can either climb 1 or 2 steps. In how many distinct ways can you climb to the top?\n",
    "\n",
    " \n",
    "\n",
    "Example 1:\n",
    "\n",
    "Input: n = 2\n",
    "Output: 2\n",
    "Explanation: There are two ways to climb to the top.\n",
    "1. 1 step + 1 step\n",
    "2. 2 steps\n",
    "\n",
    "Example 2:\n",
    "\n",
    "Input: n = 3\n",
    "Output: 3\n",
    "Explanation: There are three ways to climb to the top.\n",
    "1. 1 step + 1 step + 1 step\n",
    "2. 1 step + 2 steps\n",
    "3. 2 steps + 1 ste"
   ]
  },
  {
   "cell_type": "code",
   "execution_count": 22,
   "id": "87bb4bfd-c1b6-4fd0-b8c5-42c6bec63836",
   "metadata": {},
   "outputs": [],
   "source": [
    "def climbingStairs(n):\n",
    "    one, two = 1, 1 #fibonaci sequence\n",
    "    for i in range(n-1):\n",
    "        one, two = one + two, one   \n",
    "    return one"
   ]
  },
  {
   "cell_type": "code",
   "execution_count": 23,
   "id": "9a935ee5-d1c8-4b1e-86ce-9534877f6cd5",
   "metadata": {
    "tags": []
   },
   "outputs": [
    {
     "data": {
      "text/plain": [
       "8"
      ]
     },
     "execution_count": 23,
     "metadata": {},
     "output_type": "execute_result"
    }
   ],
   "source": [
    "climbingStairs(5)"
   ]
  },
  {
   "cell_type": "markdown",
   "id": "00290b07-0592-43ed-afd5-c289003f4814",
   "metadata": {},
   "source": [
    "## 746. Min Cost Climbing Stairs\n",
    "You are given an integer array cost where cost[i] is the cost of ith step on a staircase. Once you pay the cost, you can either climb one or two steps.\n",
    "\n",
    "You can either start from the step with index 0, or the step with index 1.\n",
    "\n",
    "Return the minimum cost to reach the top of the floor.\n",
    "\n",
    " \n",
    "\n",
    "Example 1:\n",
    "\n",
    "Input: cost = [10,15,20]\n",
    "Output: 15\n",
    "Explanation: You will start at index 1.\n",
    "- Pay 15 and climb two steps to reach the top.\n",
    "The total cost is 15.\n",
    "\n",
    "Example 2:\n",
    "\n",
    "Input: cost = [1,100,1,1,1,100,1,1,100,1]\n",
    "Output: 6\n",
    "Explanation: You will start at index 0.\n",
    "- Pay 1 and climb two steps to reach index 2.\n",
    "- Pay 1 and climb two steps to reach index 4.\n",
    "- Pay 1 and climb two steps to reach index 6.\n",
    "- Pay 1 and climb one step to reach index 7.\n",
    "- Pay 1 and climb two steps to reach index 9.\n",
    "- Pay 1 and climb one step to reach the top.\n",
    "The total cost is 6.\n"
   ]
  },
  {
   "cell_type": "code",
   "execution_count": null,
   "id": "86c0ba65-e3fa-4f04-922d-e0e11ff5902d",
   "metadata": {
    "tags": []
   },
   "outputs": [],
   "source": [
    "nums =[10, 15, 20]"
   ]
  },
  {
   "cell_type": "code",
   "execution_count": 14,
   "id": "fbe60110-1afd-4806-8197-8ee51e6275ec",
   "metadata": {},
   "outputs": [],
   "source": [
    "def minCostClimbingStairs(cost):\n",
    "    for i in range(2, len(cost)): #minimum cost to get to the top is previous 2, i.e index itself\n",
    "        cost[i] += min(cost[i-1], cost[i-2])\n",
    "    return min(cost[-1], cost[-2]) #since we can either take 1 or 2 steps to get to the top, we return the lowest of the 2 options\n",
    "        "
   ]
  },
  {
   "cell_type": "code",
   "execution_count": null,
   "id": "8b7fbf06-2899-47a8-87e3-18e63ed417d1",
   "metadata": {
    "tags": []
   },
   "outputs": [],
   "source": [
    "def minCostClimbingStairs(cost):\n",
    "    cost.append(0) \n",
    "    for i in range(len(cost) -3, -1, -1):\n",
    "        cost[i] = min(cost[i+1] + cost[i], cost[i] + cost[i+2])\n",
    "        \n",
    "    return min(cost[0], cost[1])   "
   ]
  },
  {
   "cell_type": "code",
   "execution_count": 15,
   "id": "62f19419-adb7-4996-8429-694f69bbbdd7",
   "metadata": {
    "tags": []
   },
   "outputs": [
    {
     "data": {
      "text/plain": [
       "6"
      ]
     },
     "execution_count": 15,
     "metadata": {},
     "output_type": "execute_result"
    }
   ],
   "source": [
    "cost = [1,100,1,1,1,100,1,1,100,1] # -> [1,100,2,3,3,103,4,5,104,6] = 6\n",
    "minCostClimbingStairs(cost)"
   ]
  },
  {
   "cell_type": "markdown",
   "id": "475a43ec-81a3-44af-b4fa-a262ed0b34a0",
   "metadata": {},
   "source": [
    "## 300. Longest Increasing Subsequence\n",
    "Given an integer array nums, return the length of the longest strictly increasing\n",
    "subsequence\n",
    "\n",
    "Example 1:\n",
    "\n",
    "Input: nums = [10,9,2,5,3,7,101,18]\n",
    "Output: 4\n",
    "Explanation: The longest increasing subsequence is [2,3,7,101], therefore the length is 4.\n",
    "\n",
    "Example 2:\n",
    "\n",
    "Input: nums = [0,1,0,3,2,3]\n",
    "Output: 4\n",
    "\n",
    "Example 3:\n",
    "\n",
    "Input: nums = [7,7,7,7,7,7,7]\n",
    "Output: 1\n"
   ]
  },
  {
   "cell_type": "code",
   "execution_count": null,
   "id": "ea96b168-6b14-4a19-8df5-7992aff0528c",
   "metadata": {
    "tags": []
   },
   "outputs": [],
   "source": [
    "nums = [10,9,2,5,3,7,101,18]"
   ]
  },
  {
   "cell_type": "code",
   "execution_count": null,
   "id": "0541170f-56ed-44f0-879f-95fe50420f93",
   "metadata": {},
   "outputs": [],
   "source": [
    "def longestIncreasingSubseq(nums):\n",
    "    lis = [1] * len(nums)\n",
    "    for l in range(len(nums) -1,-1, -1):\n",
    "        for i in range(l + 1, len(nums)):\n",
    "            if nums[i] < nums[l]:\n",
    "                lis[l] = max(lis[l], 1 + lis[i])\n",
    "    return max(lis)\n",
    "        "
   ]
  },
  {
   "cell_type": "code",
   "execution_count": 18,
   "id": "163bf571-9dfe-4fec-835e-5b6710b373b5",
   "metadata": {},
   "outputs": [],
   "source": [
    "def longestIncreasingSubsequence(nums):\n",
    "    dp = [1] * len(nums)\n",
    "    for i in range(1, len(nums)):\n",
    "        for j in range(i):\n",
    "            if nums[i] > nums[j]:\n",
    "                dp[i] = max(dp[i], dp[j] + 1) #final result is dp = [1, 1, 1, 2, 2, 3, 4, 4]\n",
    "    return max(dp)"
   ]
  },
  {
   "cell_type": "code",
   "execution_count": 19,
   "id": "18e958a1-1f48-4317-9acd-f48feb38a4a0",
   "metadata": {
    "tags": []
   },
   "outputs": [
    {
     "data": {
      "text/plain": [
       "4"
      ]
     },
     "execution_count": 19,
     "metadata": {},
     "output_type": "execute_result"
    }
   ],
   "source": [
    "nums = [10,9,2,5,3,7,101,18]\n",
    "longestIncreasingSubsequence(nums)"
   ]
  },
  {
   "cell_type": "code",
   "execution_count": null,
   "id": "a20f63d7-204f-4765-a700-1ace696785d8",
   "metadata": {},
   "outputs": [],
   "source": [
    "longestIncreasingSubsequence(nums)"
   ]
  },
  {
   "cell_type": "code",
   "execution_count": null,
   "id": "43a729a3-fefc-40ee-b607-a2fac7d35af5",
   "metadata": {},
   "outputs": [],
   "source": []
  },
  {
   "cell_type": "markdown",
   "id": "13805e81-1417-4d40-a0f6-140038476136",
   "metadata": {},
   "source": [
    "## 198. House Robber\n",
    "You are a professional robber planning to rob houses along a street. Each house has a certain amount of money stashed, the only constraint stopping you from robbing each of them is that adjacent houses have security systems connected and it will automatically contact the police if two adjacent houses were broken into on the same night.\n",
    "\n",
    "Given an integer array nums representing the amount of money of each house, return the maximum amount of money you can rob tonight without alerting the police.\n",
    "\n",
    " \n",
    "\n",
    "Example 1:\n",
    "\n",
    "Input: nums = [1,2,3,1]\n",
    "Output: 4\n",
    "Explanation: Rob house 1 (money = 1) and then rob house 3 (money = 3).\n",
    "Total amount you can rob = 1 + 3 = 4.\n",
    "\n",
    "Example 2:\n",
    "\n",
    "Input: nums = [2,7,9,3,1]\n",
    "Output: 12\n",
    "Explanation: Rob house 1 (money = 2), rob house 3 (money = 9) and rob house 5 (money = 1).\n",
    "Total amount you can rob = 2 + 9 + 1 = 12.\n",
    "\n",
    " \n",
    "\n",
    "Constraints:\n",
    "\n",
    "    1 <= nums.length <= 100\n",
    "    0 <= nums[i] <= 400\n",
    "\n"
   ]
  },
  {
   "cell_type": "code",
   "execution_count": 1,
   "id": "41a3ec4d-2ed3-4538-87ea-e96b0d28a126",
   "metadata": {},
   "outputs": [],
   "source": [
    "def rob(nums):\n",
    "    rob1, rob2 = 0, 0\n",
    "    for n in nums:\n",
    "        temp = max(n + rob1, rob2)\n",
    "        rob1 = rob2\n",
    "        rob2 = temp\n",
    "    return rob2\n",
    "    "
   ]
  },
  {
   "cell_type": "code",
   "execution_count": 2,
   "id": "0fda40f0-9e90-44e0-a6ad-1371fbdeb630",
   "metadata": {},
   "outputs": [
    {
     "data": {
      "text/plain": [
       "12"
      ]
     },
     "execution_count": 2,
     "metadata": {},
     "output_type": "execute_result"
    }
   ],
   "source": [
    "nums = [2,7,9,3,1]\n",
    "rob(nums)"
   ]
  },
  {
   "cell_type": "markdown",
   "id": "a937d292-dc04-40dd-b1dd-2677daa26a83",
   "metadata": {},
   "source": [
    "## 5. Longest palindromic Substring\n",
    "Given a string s, return the longest palindromic substring in s.\n",
    "\n",
    "Example 1:\n",
    "\n",
    "Input: s = \"babad\"\n",
    "\n",
    "Output: \"bab\"\n",
    "\n",
    "Explanation: \"aba\" is also a valid answer.\n",
    "\n",
    "Example 2:\n",
    "\n",
    "Input: s = \"cbbd\"\n",
    "\n",
    "Output: \"bb\"\n"
   ]
  },
  {
   "cell_type": "code",
   "execution_count": null,
   "id": "3e1ecda0-7622-44fb-9e26-c17c54aa8dfb",
   "metadata": {},
   "outputs": [],
   "source": [
    "def longestPalindrome(s):\n",
    "    "
   ]
  },
  {
   "cell_type": "markdown",
   "id": "31d6fd91-b30e-4afd-8cc6-3b9702ad641b",
   "metadata": {},
   "source": [
    "## 409. Longest Palindrome\n",
    "Given a string s which consists of lowercase or uppercase letters, return the length of the longest\n",
    "palindrome that can be built with those letters.\n",
    "Letters are case sensitive, for example, \"Aa\" is not considered a palindrome.\n",
    "\n",
    "Example 1:\n",
    "Input: s = \"abccccdd\"\n",
    "Output: 7\n",
    "\n",
    "Explanation: One longest palindrome that can be built is \"dccaccd\", whose length is 7.\n",
    "\n",
    "Example 2:\n",
    "Input: s = \"a\"\n",
    "Output: 1\n",
    "\n",
    "Explanation: The longest palindrome that can be built is \"a\", whose length is 1.\n"
   ]
  },
  {
   "cell_type": "code",
   "execution_count": null,
   "id": "88869a31-b606-494f-a887-d558181ac1a7",
   "metadata": {
    "tags": []
   },
   "outputs": [],
   "source": [
    "s = \"abccccdd\""
   ]
  },
  {
   "cell_type": "code",
   "execution_count": 29,
   "id": "35eb7c9b-167a-4964-8d01-4e355785ccfc",
   "metadata": {
    "tags": []
   },
   "outputs": [],
   "source": [
    "from collections import defaultdict\n",
    "\n",
    "def longestPalindrome(s):\n",
    "    count = defaultdict(int) #defaults to a zero to avoid a Keyerror, aka accessing a non existent key\n",
    "    res = 0\n",
    "    \n",
    "    for c in s:\n",
    "        count[c] += 1 # increase the count of every character in the string\n",
    "        if count[c] % 2 == 0: #everytime we get a matching pair increase res by 2\n",
    "            res += 2 #if the count is an even number, increase res by 2\n",
    "            \n",
    "    for cnt in count.values():\n",
    "        if cnt % 2 == 1: #if there's a remainder(odd)\n",
    "            res += 1 #increament result by 1 [aaa[b]ccc] by adding b, the result is still a palindrome\n",
    "            break\n",
    "            \n",
    "    return res"
   ]
  },
  {
   "cell_type": "code",
   "execution_count": 30,
   "id": "83a6ccb3-586b-46e2-9aa3-95280db40d99",
   "metadata": {
    "tags": []
   },
   "outputs": [
    {
     "data": {
      "text/plain": [
       "7"
      ]
     },
     "execution_count": 30,
     "metadata": {},
     "output_type": "execute_result"
    }
   ],
   "source": [
    "s = \"abccccdd\"\n",
    "longestPalindrome(s)"
   ]
  },
  {
   "cell_type": "code",
   "execution_count": null,
   "id": "7db71046-de17-415b-b3d8-97976b7d2ece",
   "metadata": {
    "tags": []
   },
   "outputs": [],
   "source": [
    "def countSubstrings(s):\n",
    "    res = 0\n",
    "    for i in range(len(s)):\n",
    "        l = r = i\n",
    "        while l >= 0 and r < len(s) and s[l] == s[r]:\n",
    "            res += 1\n",
    "            l -= 1\n",
    "            r += 1\n",
    "            \n",
    "        l= i\n",
    "        r = i + 1\n",
    "        while l >= 0 and r < len(s) and s[l] == s[r]:\n",
    "            res += 1\n",
    "            l -= 1\n",
    "            r += 1 \n",
    "    return res"
   ]
  },
  {
   "cell_type": "markdown",
   "id": "0e6347c4-9d5e-4ef8-be8e-f5a45560e107",
   "metadata": {},
   "source": [
    "## 322. Coin change\n",
    "You are given an integer array coins representing coins of different denominations and an integer amount representing a total amount of money.\n",
    "Return the fewest number of coins that you need to make up that amount. If that amount of money cannot be made up by any combination of the coins, return -1.\n",
    "You may assume that you have an infinite number of each kind of coin.\n",
    "\n",
    "Example 1:\n",
    "\n",
    "Input: coins = [1,2,5], amount = 11\n",
    "Output: 3\n",
    "\n",
    "Explanation: 11 = 5 + 5 + 1\n",
    "\n",
    "Example 2:\n",
    "\n",
    "Input: coins = [2], amount = 3\n",
    "Output: -1\n",
    "\n",
    "Example 3:\n",
    "\n",
    "Input: coins = [1], amount = 0\n",
    "Output: 0\n"
   ]
  },
  {
   "cell_type": "code",
   "execution_count": null,
   "id": "a4f39edc-b959-4e31-b9a7-80ab9f1977cc",
   "metadata": {
    "tags": []
   },
   "outputs": [],
   "source": [
    "coins = [1,2,5]\n",
    "amount = 11"
   ]
  },
  {
   "cell_type": "code",
   "execution_count": null,
   "id": "95447d07-2a22-4728-944f-328271652cd8",
   "metadata": {
    "tags": []
   },
   "outputs": [],
   "source": [
    "def coinChange(coins, amount):\n",
    "    dp = [amount + 1] * (amount + 1) #amount + 1 is the default value. This value would remain the same if nothing happened\n",
    "    dp[0] = 0 #base case: it takes 0 coins to make amount 0\n",
    "    \n",
    "    for a in range(1, amount + 1):\n",
    "        for c in coins:\n",
    "            if a-c >= 0:\n",
    "                dp[a] = min(dp[a], 1 + dp[a - c])           \n",
    "    return dp[amount] if dp[amount] != amount + 1 else -1 #we only return dp[amount] if it is not equal to the default value above"
   ]
  },
  {
   "cell_type": "code",
   "execution_count": null,
   "id": "5dd8b3b6-d3ee-4655-a668-d7facffbe415",
   "metadata": {
    "tags": []
   },
   "outputs": [],
   "source": [
    "coinChange(coins, amount)"
   ]
  },
  {
   "cell_type": "markdown",
   "id": "44973a86-d26f-414e-ae93-6fd035ce23a2",
   "metadata": {},
   "source": [
    "## 53. Maximum Subarray\n",
    "Given an integer array nums, find the\n",
    "subarray\n",
    "with the largest sum, and return its sum.\n",
    "\n",
    " \n",
    "\n",
    "Example 1:\n",
    "\n",
    "Input: nums = [-2,1,-3,4,-1,2,1,-5,4]\n",
    "\n",
    "Output: 6\n",
    "\n",
    "Explanation: The subarray [4,-1,2,1] has the largest sum 6.\n",
    "\n",
    "Example 2:\n",
    "\n",
    "Input: nums = [1]\n",
    "\n",
    "Output: 1\n",
    "\n",
    "Explanation: The subarray [1] has the largest sum 1.\n",
    "\n",
    "Example 3:\n",
    "\n",
    "Input: nums = [5,4,-1,7,8]\n",
    "\n",
    "Output: 23\n",
    "\n",
    "Explanation: The subarray [5,4,-1,7,8] has the largest sum 23.\n",
    "\n",
    " \n",
    "\n",
    "Constraints:\n",
    "\n",
    "    1 <= nums.length <= 105\n",
    "    -104 <= nums[i] <= 104\n"
   ]
  },
  {
   "cell_type": "code",
   "execution_count": null,
   "id": "504e5ed9-d6e2-48f7-b06c-54840e1efd4f",
   "metadata": {
    "editable": true,
    "slideshow": {
     "slide_type": ""
    },
    "tags": []
   },
   "outputs": [],
   "source": [
    "nums = [-2,1,-3,4,-1,2,1,-5,4]\n",
    "#Output: 6"
   ]
  },
  {
   "cell_type": "code",
   "execution_count": null,
   "id": "87058980-f601-4197-87e3-1d8e5cd6a520",
   "metadata": {},
   "outputs": [],
   "source": [
    "def maxSubArray(nums):\n",
    "    maxSub = nums[0]\n",
    "    curSum = 0\n",
    "\n",
    "    for n in nums:\n",
    "        if curSum < 0: #if we add a number to current sum & it becomes -ve \n",
    "            curSum = 0 #we start afresh on the next number (a new subarray) \n",
    "        curSum += n\n",
    "        maxSub = max(maxSub, curSum)\n",
    "    return maxSub\n"
   ]
  },
  {
   "cell_type": "code",
   "execution_count": null,
   "id": "c364e53c-c1d7-472a-ac52-2dbdd95fc5d3",
   "metadata": {
    "editable": true,
    "slideshow": {
     "slide_type": ""
    },
    "tags": []
   },
   "outputs": [],
   "source": [
    "maxSubArray(nums)"
   ]
  },
  {
   "cell_type": "markdown",
   "id": "4ce43702-d952-4f91-9b15-f4cec3159e51",
   "metadata": {},
   "source": [
    "## 152. Maximum Product Subarray\n",
    "Given an integer array nums, find a\n",
    "subarray\n",
    "that has the largest product, and return the product.\n",
    "\n",
    "The test cases are generated so that the answer will fit in a 32-bit integer.\n",
    "\n",
    " \n",
    "\n",
    "Example 1:\n",
    "\n",
    "Input: nums = [2,3,-2,4]\n",
    "Output: 6\n",
    "Explanation: [2,3] has the largest product 6.\n",
    "\n",
    "Example 2:\n",
    "\n",
    "Input: nums = [-2,0,-1]\n",
    "Output: 0\n",
    "Explanation: The result cannot be 2, because [-2,-1] is not a subarray.\n"
   ]
  },
  {
   "cell_type": "code",
   "execution_count": null,
   "id": "ec30e654-0486-42f1-b11a-f57d45978ec4",
   "metadata": {
    "editable": true,
    "slideshow": {
     "slide_type": ""
    },
    "tags": []
   },
   "outputs": [],
   "source": [
    "nums = [2,3,-2,4]"
   ]
  },
  {
   "cell_type": "code",
   "execution_count": null,
   "id": "a1863e0d-0d88-4d39-a400-339c3cec3bb2",
   "metadata": {
    "tags": []
   },
   "outputs": [],
   "source": [
    "def maxProdSubArray(nums):\n",
    "    n = len(nums)\n",
    "    if n < 1:\n",
    "        return 0\n",
    "    res = curMax = curMin = nums[0]\n",
    "    for n in nums[1:]:\n",
    "        temp = curMax\n",
    "        curMax = max(curMax * n, curMin * n, n)\n",
    "        curMin = min(temp * n, curMin * n, n)\n",
    "        res = max(res, curMax)\n",
    "    return res"
   ]
  },
  {
   "cell_type": "code",
   "execution_count": null,
   "id": "a69efcf2-f112-4ba5-a0d0-54d809ee6209",
   "metadata": {
    "editable": true,
    "slideshow": {
     "slide_type": ""
    },
    "tags": []
   },
   "outputs": [],
   "source": [
    "maxProdSubArray(nums)"
   ]
  },
  {
   "cell_type": "code",
   "execution_count": 1,
   "id": "2e8a6d04-ec5f-4ae8-ab01-448e9f8eac13",
   "metadata": {},
   "outputs": [],
   "source": [
    "def maxProdSubArray(nums):\n",
    "    min_p = max_p = max_prod = nums[0] #keep a count of both min and max\n",
    "    \n",
    "    for n in nums[1:]:\n",
    "        temp = min_p\n",
    "        min_p = min(n, min_p * n, n * max_p) # n is the option of starting over because the previous product is -ve\n",
    "        max_p = max(n, temp * n, n * max_p)\n",
    "        max_prod = max(max_prod, max_p)\n",
    "    return max_prod\n"
   ]
  },
  {
   "cell_type": "code",
   "execution_count": 2,
   "id": "31403f90-57b6-4d26-befc-e0321102934f",
   "metadata": {},
   "outputs": [
    {
     "data": {
      "text/plain": [
       "6"
      ]
     },
     "execution_count": 2,
     "metadata": {},
     "output_type": "execute_result"
    }
   ],
   "source": [
    "nums = [2,3,-2,4]\n",
    "maxProdSubArray(nums)"
   ]
  },
  {
   "cell_type": "markdown",
   "id": "dd6caf89-dcf1-4bad-a39b-cac8d5fb8895",
   "metadata": {},
   "source": [
    "## 238. Product of Array Except Self\n",
    "Given an integer array nums, return an array answer such that answer[i] is equal to the product of all the elements of nums except nums[i].\n",
    "The product of any prefix or suffix of nums is guaranteed to fit in a 32-bit integer.\n",
    "You must write an algorithm that runs in O(n) time and without using the division operation.\n",
    "\n",
    "Example 1:\n",
    "\n",
    "Input: nums = [1,2,3,4]\n",
    "Output: [24,12,8,6]\n",
    "\n",
    "Example 2:\n",
    "\n",
    "Input: nums = [-1,1,0,-3,3]\n",
    "Output: [0,0,9,0,0]\n"
   ]
  },
  {
   "cell_type": "code",
   "execution_count": null,
   "id": "6f63276f-e50c-464b-b5a9-0c5b77a8f136",
   "metadata": {
    "tags": []
   },
   "outputs": [],
   "source": [
    "nums = [1,2,3,4]"
   ]
  },
  {
   "cell_type": "code",
   "execution_count": null,
   "id": "599bf1f1-9af9-42a1-8a03-6aeea02e7d4d",
   "metadata": {
    "tags": []
   },
   "outputs": [],
   "source": [
    "def productExceptSelf(nums):\n",
    "    res = [1] * len(nums)\n",
    "    prefix = 1\n",
    "    for i in range(len(nums)):\n",
    "        res[i] = prefix\n",
    "        prefix *= nums[i]\n",
    "    postfix = 1\n",
    "    for i in range(len(nums)-1,-1,-1):\n",
    "        res[i] *= postfix\n",
    "        postfix *= nums[i]\n",
    "    return res\n",
    "        "
   ]
  },
  {
   "cell_type": "code",
   "execution_count": null,
   "id": "4dcc2b61-d877-412c-810f-e23b86d61564",
   "metadata": {
    "tags": []
   },
   "outputs": [],
   "source": [
    "productExceptSelf(nums)"
   ]
  },
  {
   "cell_type": "code",
   "execution_count": null,
   "id": "21910496-1051-4ce7-a3df-c038de555920",
   "metadata": {},
   "outputs": [],
   "source": [
    "def productExceptSelf(nums):\n",
    "    output = [1]\n",
    "    for i in range(len(nums)-1, 0, -1):\n",
    "        output.append(output[-1] * nums[i])\n",
    "    output = output[::-1]\n",
    "    left = 1\n",
    "    for i in range(len(nums)):\n",
    "        output[i] = output[i] * left\n",
    "        left *nums[i]\n",
    "    return output"
   ]
  },
  {
   "cell_type": "markdown",
   "id": "2461c573-cc01-4561-acbe-e26c8a049d80",
   "metadata": {},
   "source": [
    "## 53. Maximum Sub Array\n",
    "Given an integer array nums, find the subarray with the largest sum, and return its sum.\n",
    "\n",
    "Example 1:\n",
    "\n",
    "Input: nums = [-2,1,-3,4,-1,2,1,-5,4]\n",
    "Output: 6\n",
    "Explanation: The subarray [4,-1,2,1] has the largest sum 6.\n",
    "\n",
    "Example 2:\n",
    "\n",
    "Input: nums = [1]\n",
    "Output: 1\n",
    "Explanation: The subarray [1] has the largest sum 1.\n",
    "\n",
    "Example 3:\n",
    "\n",
    "Input: nums = [5,4,-1,7,8]\n",
    "Output: 23\n",
    "Explanation: The subarray [5,4,-1,7,8] has the largest sum 23.\n"
   ]
  },
  {
   "cell_type": "code",
   "execution_count": 1,
   "id": "ce7e62b2-3784-41ee-95ef-b9d0fda4d712",
   "metadata": {
    "tags": []
   },
   "outputs": [],
   "source": [
    "def maxSubArray(nums):\n",
    "    max_sum  = nums[0]\n",
    "    cur_sum = 0\n",
    "    \n",
    "    for i in range(len(nums)):\n",
    "        cur_sum += nums[i]\n",
    "        max_sum = max(max_sum, cur_sum)\n",
    "        \n",
    "        if cur_sum < 0:\n",
    "            cur_sum = 0\n",
    "    return max_sum"
   ]
  },
  {
   "cell_type": "code",
   "execution_count": 3,
   "id": "5024b12b-a4f9-477e-a1ae-0eb57c21bc8a",
   "metadata": {
    "tags": []
   },
   "outputs": [
    {
     "data": {
      "text/plain": [
       "6"
      ]
     },
     "execution_count": 3,
     "metadata": {},
     "output_type": "execute_result"
    }
   ],
   "source": [
    "nums = [-2,1,-3,4,-1,2,1,-5,4]\n",
    "maxSubArray(nums)"
   ]
  },
  {
   "cell_type": "markdown",
   "id": "3146d1ab-bed5-422c-ada8-4c03af7cece7",
   "metadata": {},
   "source": [
    "## 704. Binary Search\n",
    "Given an array of integers nums which is sorted in ascending order, and an integer target, write a function to search target in nums. If target exists, then return its index. Otherwise, return -1.\n",
    "\n",
    "You must write an algorithm with O(log n) runtime complexity.\n",
    "\n",
    "Example 1:\n",
    "\n",
    "Input: nums = [-1,0,3,5,9,12], target = 9\n",
    "Output: 4\n",
    "Explanation: 9 exists in nums and its index is 4\n",
    "\n",
    "Example 2:\n",
    "\n",
    "Input: nums = [-1,0,3,5,9,12], target = 2\n",
    "Output: -1\n",
    "Explanation: 2 does not exist in nums so return -1\n"
   ]
  },
  {
   "cell_type": "code",
   "execution_count": 3,
   "id": "4d77c538-db1a-4099-85b9-8731dc5dc50b",
   "metadata": {
    "tags": []
   },
   "outputs": [],
   "source": [
    "def binarySearch(nums, target):\n",
    "    l, r = 0, len(nums) -1\n",
    "    \n",
    "    while l <= r:\n",
    "        m = (l + r )//2\n",
    "        if nums[m] < target:\n",
    "            l = m + 1\n",
    "        elif nums[m] > target:\n",
    "            r = m - 1\n",
    "        else: return m\n",
    "    return -1"
   ]
  },
  {
   "cell_type": "code",
   "execution_count": 4,
   "id": "717edc3f-5a0a-4839-8fc0-e0e323c3d406",
   "metadata": {
    "tags": []
   },
   "outputs": [
    {
     "data": {
      "text/plain": [
       "4"
      ]
     },
     "execution_count": 4,
     "metadata": {},
     "output_type": "execute_result"
    }
   ],
   "source": [
    "nums = [-1,0,3,5,9,12]\n",
    "target = 9\n",
    "binarySearch(nums, target)"
   ]
  },
  {
   "cell_type": "markdown",
   "id": "94d555a4-1e56-489f-b441-7239ffa349ad",
   "metadata": {},
   "source": [
    "## 121. Best Time to Buy and Sell Stock\n",
    "You are given an array prices where prices[i] is the price of a given stock on the ith day. You want to maximize your profit by choosing a single day to buy one stock and choosing a different day in the future to sell that stock. Return the maximum profit you can achieve from this transaction. If you cannot achieve any profit, return 0.\n",
    "\n",
    "Example 1:\n",
    "Input: prices = [7,1,5,3,6,4]\n",
    "Output: 5\n",
    "Explanation: Buy on day 2 (price = 1) and sell on day 5 (price = 6), profit = 6-1 = 5.\n",
    "Note that buying on day 2 and selling on day 1 is not allowed because you must buy before you sell.\n",
    "\n",
    "Example 2:\n",
    "Input: prices = [7,6,4,3,1]\n",
    "Output: 0\n",
    "Explanation: In this case, no transactions are done and the max profit = 0.\n"
   ]
  },
  {
   "cell_type": "code",
   "execution_count": null,
   "id": "fc896e76-0119-4edd-ab15-63a5726508eb",
   "metadata": {},
   "outputs": [],
   "source": [
    "def maxProf(prices):\n",
    "    res = 0\n",
    "    for i in range(1, len(prices)):\n",
    "        for l in range(i):\n",
    "            if prices[l] < prices[i]:\n",
    "                res = max(res, prices[i] - prices[l])\n",
    "    return res"
   ]
  },
  {
   "cell_type": "code",
   "execution_count": null,
   "id": "6f6360c5-07f7-4253-a890-bbf29c6e0af6",
   "metadata": {},
   "outputs": [],
   "source": [
    "prices = [7,1,5,3,6,4]\n",
    "maxProf(prices)"
   ]
  },
  {
   "cell_type": "code",
   "execution_count": null,
   "id": "5f6bafb2-2454-4d0a-92b7-07d762bceecf",
   "metadata": {
    "tags": []
   },
   "outputs": [],
   "source": [
    "def maxProfit(prices):\n",
    "    res = 0\n",
    "    lowest = prices[0]\n",
    "    for price in prices:\n",
    "        if price < lowest:\n",
    "            lowest = price\n",
    "        else:\n",
    "            res = max(res, price-lowest)\n",
    "    return res"
   ]
  },
  {
   "cell_type": "code",
   "execution_count": null,
   "id": "93174c67-45ab-4325-a42d-fd69261ca650",
   "metadata": {
    "tags": []
   },
   "outputs": [],
   "source": [
    "maxProfit(prices)"
   ]
  },
  {
   "cell_type": "markdown",
   "id": "a46c2438-54db-4db7-a3da-1effd95f04e4",
   "metadata": {},
   "source": [
    "## 11. Container With Most Water\n",
    "You are given an integer array height of length n. There are n vertical lines drawn such that the two endpoints of the ith line are (i, 0) and (i, height[i]).\n",
    "Find two lines that together with the x-axis form a container, such that the container contains the most water.\n",
    "Return the maximum amount of water a container can store.\n",
    "Notice that you may not slant the container.\n",
    "\n",
    "Example 1:\n",
    "Input: height = [1,8,6,2,5,4,8,3,7]\n",
    "Output: 49\n",
    "Explanation: The above vertical lines are represented by array [1,8,6,2,5,4,8,3,7]. In this case, the max area of water (blue section) the container can contain is 49.\n",
    "\n",
    "Example 2:\n",
    "Input: height = [1,1]\n",
    "Output: 1\n"
   ]
  },
  {
   "cell_type": "code",
   "execution_count": null,
   "id": "94dae20c-da15-46b2-8eb8-27b32ef972c8",
   "metadata": {
    "tags": []
   },
   "outputs": [],
   "source": [
    "height = [1,8,6,2,5,4,8,3,7]"
   ]
  },
  {
   "cell_type": "code",
   "execution_count": null,
   "id": "2997fa11-d8f3-4b17-8940-7146e16b8a7e",
   "metadata": {
    "tags": []
   },
   "outputs": [],
   "source": [
    "def maxArea(height):\n",
    "    l, r = 0, len(height) -1\n",
    "    max_area = 0\n",
    "    while l < r:\n",
    "        w = r - l #width\n",
    "        h = min(height[l], height[r])\n",
    "        a = w * h #area\n",
    "        max_area = max(max_area, a)\n",
    "        \n",
    "        if height[l] < height[r]: #we don't care if the bars have equal heights, but if one is shorter we move to the next option\n",
    "            l += 1\n",
    "        else: #this is the same as height[l] > height[r]\n",
    "            r -= 1\n",
    "    return max_area"
   ]
  },
  {
   "cell_type": "code",
   "execution_count": null,
   "id": "a564beab-85c4-4bf8-818b-bd143a46e631",
   "metadata": {
    "tags": []
   },
   "outputs": [],
   "source": [
    "maxArea(height)"
   ]
  },
  {
   "cell_type": "markdown",
   "id": "51260adc-3a32-4b01-8427-d90d0fd2b820",
   "metadata": {},
   "source": [
    "## 33. Search in Rotated Sorted Array\n",
    "There is an integer array nums sorted in ascending order (with distinct values).\n",
    "Prior to being passed to your function, nums is possibly rotated at an unknown pivot index k (1 <= k < nums.length) such that the resulting array is [nums[k], nums[k+1], ..., nums[n-1], nums[0], nums[1], ..., nums[k-1]] (0-indexed). For example, [0,1,2,4,5,6,7] might be rotated at pivot index 3 and become [4,5,6,7,0,1,2].\n",
    "Given the array nums after the possible rotation and an integer target, return the index of target if it is in nums, or -1 if it is not in nums.\n",
    "You must write an algorithm with O(log n) runtime complexity.\n",
    "\n",
    "Example 1:\n",
    "Input: nums = [4,5,6,7,0,1,2], target = 0\n",
    "Output: 4\n",
    "\n",
    "Example 2:\n",
    "Input: nums = [4,5,6,7,0,1,2], target = 3\n",
    "Output: -1\n",
    "\n",
    "Example 3:\n",
    "Input: nums = [1], target = 0\n",
    "Output: -1\n"
   ]
  },
  {
   "cell_type": "code",
   "execution_count": null,
   "id": "72e75f18-77b7-4d50-9803-7aa1e4068bf0",
   "metadata": {},
   "outputs": [],
   "source": [
    "def search(nums, target):\n",
    "    l, r = 0, len(nums) - 1\n",
    "    mid = (l + r)//2\n",
    "    \n",
    "    while l <= r:\n",
    "        if nums[mid] == target:\n",
    "            return mid\n",
    "        \n",
    "        ##left sorted portion\n",
    "        if nums[l] <= nums[mid]:\n",
    "            if target > nums[mid] or target < nums[l]:\n",
    "                l = mid + 1\n",
    "            else:\n",
    "                r = mid -1\n",
    "        \n",
    "        ##right sorted portion\n",
    "        else:\n",
    "            if target < nums[mid] or target > nums[r]:\n",
    "                r = mid - 1\n",
    "            else:\n",
    "                l = mid +1\n",
    "    return -1"
   ]
  },
  {
   "cell_type": "code",
   "execution_count": null,
   "id": "728c9de0-cddc-4774-83fb-5bbcc628e9b7",
   "metadata": {
    "tags": []
   },
   "outputs": [],
   "source": [
    "nums = [4,5,6,7,0,1,2]\n",
    "target = 0"
   ]
  },
  {
   "cell_type": "markdown",
   "id": "5aa6bb83-37e7-47f5-ad12-5ac0129c9452",
   "metadata": {},
   "source": [
    "## 55. Jump Game\n",
    "You are given an integer array nums. You are initially positioned at the array's first index, and each element in the array represents your maximum jump length at that position. Return true if you can reach the last index, or false otherwise.\n",
    "\n",
    "Example 1:\n",
    "Input: nums = [2,3,1,1,4]\n",
    "Output: true\n",
    "Explanation: Jump 1 step from index 0 to 1, then 3 steps to the last index.\n",
    "\n",
    "Example 2:\n",
    "Input: nums = [3,2,1,0,4]\n",
    "Output: false\n",
    "Explanation: You will always arrive at index 3 no matter what. Its maximum jump length is 0, which makes it impossible to reach the last index."
   ]
  },
  {
   "cell_type": "code",
   "execution_count": null,
   "id": "7e0b021a-0f71-4751-bcae-e36a73bdc45d",
   "metadata": {
    "tags": []
   },
   "outputs": [],
   "source": [
    "nums = [2,3,1,1,4]"
   ]
  },
  {
   "cell_type": "code",
   "execution_count": null,
   "id": "f4f8f330-57df-47a4-b721-48f584084e00",
   "metadata": {
    "tags": []
   },
   "outputs": [],
   "source": [
    "def canJump(nums):\n",
    "    goal = len(nums) - 1\n",
    "    \n",
    "    for i in range(len(nums) -1,-1, -1):\n",
    "        if i + nums[i] >= goal:\n",
    "            goal = i\n",
    "    return True if goal == 0 else False"
   ]
  },
  {
   "cell_type": "code",
   "execution_count": null,
   "id": "9a66a3dc-562b-4264-9963-ba0cf14b96b9",
   "metadata": {
    "tags": []
   },
   "outputs": [],
   "source": [
    "canJump(nums)"
   ]
  },
  {
   "cell_type": "markdown",
   "id": "6eb77816-84cc-46a4-a65c-521b2bcfcd1f",
   "metadata": {},
   "source": [
    "## 206. Reverse a Linked List\n",
    "Given the head of a singly linked list, reverse the list, and return the reversed list.\n",
    "Example 1:\n",
    "\n",
    "<img src = \"rev1ex1.jpg\" />\n",
    "\n",
    "Input: head = [1,2,3,4,5]\n",
    "Output: [5,4,3,2,1]\n",
    "\n",
    "Example 2:\n",
    "\n",
    "<img src = \"rev1ex2.jpg\" />\n",
    "\n",
    "Input: head = [1,2]\n",
    "Output: [2,1]\n",
    "\n",
    "Example 3:\n",
    "Input: head = []\n",
    "Output: []\n",
    "\n",
    "Constraints:\n",
    "\n",
    "    The number of nodes in the list is the range [0, 5000].\n",
    "    -5000 <= Node.val <= 5000\n"
   ]
  },
  {
   "cell_type": "code",
   "execution_count": null,
   "id": "0cc02983-12ce-4020-bfc0-3e9292b67ac1",
   "metadata": {
    "tags": []
   },
   "outputs": [],
   "source": [
    "# Definition for singly-linked list.\n",
    "class Node:    \n",
    "    def __init__(self, val=0, next=None):\n",
    "        self.val = val\n",
    "        self.next = next\n",
    "        "
   ]
  },
  {
   "cell_type": "code",
   "execution_count": null,
   "id": "a09c96e7-1df2-49a5-8afb-ca6d66615ed4",
   "metadata": {
    "tags": []
   },
   "outputs": [],
   "source": [
    "#my addition to insert values, not needed on leetcode\n",
    "class linkedList:\n",
    "    def __init__(self):\n",
    "        self.head = None\n",
    "\n",
    "    def insert(self, val):\n",
    "        new_node = Node(val)\n",
    "        if self.head is None:\n",
    "            self.head = new_node\n",
    "            return\n",
    "        last = self.head       \n",
    "        while last.next:\n",
    "            last = last.next\n",
    "        last.next = new_node\n",
    "\n",
    "    def insert_list(self, data_list):\n",
    "        self.head = None\n",
    "        for data in data_list:\n",
    "            self.insert(data)\n",
    "\n",
    "    def reverse_list(self):        \n",
    "        curr = self.head\n",
    "        prev_node = None\n",
    "        while curr:\n",
    "            temp = curr.next\n",
    "            curr.next = prev_node\n",
    "            prev_node = curr\n",
    "            curr = temp\n",
    "        self.head = prev_node\n",
    "\n",
    "    def print_list(self):\n",
    "        elems = []\n",
    "        if self.head is None:\n",
    "            print('link list empty')\n",
    "        cur = self.head\n",
    "        while cur:\n",
    "            elems.append(cur.val)\n",
    "            cur = cur.next\n",
    "        print(elems)\n",
    "        "
   ]
  },
  {
   "cell_type": "code",
   "execution_count": null,
   "id": "3550f7c0-841b-45de-b304-4ac5d3ba86f2",
   "metadata": {
    "tags": []
   },
   "outputs": [],
   "source": [
    "head = [1,2,3,4,5]"
   ]
  },
  {
   "cell_type": "code",
   "execution_count": null,
   "id": "82f38ce4-3cc0-4688-beaf-c6410b189662",
   "metadata": {},
   "outputs": [],
   "source": [
    "ll = linkedList()\n",
    "ll.insert_list([1,2,3,4,5])\n",
    "#ll.print_list()\n",
    "ll.reverse_list()\n",
    "ll.print_list()"
   ]
  },
  {
   "cell_type": "markdown",
   "id": "7144f83e-bbad-4c6e-a172-8a2974d2c940",
   "metadata": {},
   "source": [
    "## 141. Linked List Cycle\n",
    "Given head, the head of a linked list, determine if the linked list has a cycle in it.\n",
    "There is a cycle in a linked list if there is some node in the list that can be reached again by continuously following the next pointer. Internally, pos is used to denote the index of the node that tail's next pointer is connected to. Note that pos is not passed as a parameter.\n",
    "Return true if there is a cycle in the linked list. Otherwise, return false.\n",
    "\n",
    "Example 1:\n",
    "\n",
    "<img src ='circularlinkedlist.png' />\n",
    "\n",
    "Input: head = [3,2,0,-4], pos = 1\n",
    "Output: true\n",
    "Explanation: There is a cycle in the linked list, where the tail connects to the 1st node (0-indexed).\n",
    "\n",
    "Example 2:\n",
    "\n",
    "<img src ='circularlinkedlist_test2.png' />\n",
    "\n",
    "Input: head = [1,2], pos = 0\n",
    "Output: true\n",
    "Explanation: There is a cycle in the linked list, where the tail connects to the 0th node.\n"
   ]
  },
  {
   "cell_type": "code",
   "execution_count": null,
   "id": "1e4fb945-9d5a-4b80-bbc1-99c739179000",
   "metadata": {
    "tags": []
   },
   "outputs": [],
   "source": [
    "# Definition for singly-linked list.\n",
    "class ListNode:    \n",
    "    def __init__(self, x):       \n",
    "        self.val = x\n",
    "        self.next = None\n",
    "\n",
    "class Solution:\n",
    "    def hasCycle(self, head: ListNode) -> bool:\n",
    "        slow, fast = head, head #initialize slow and fast pointer at the same position, next time they meet, we have a loop\n",
    "        #we move fast 2 steps and slow one step, so fast should get to the null pointer 1st, if it doesn't, it is looping\n",
    "        while fast and fast.next:\n",
    "            slow = slow.next\n",
    "            fast = fast.next.next\n",
    "            if slow == fast:\n",
    "                return True\n",
    "        return False"
   ]
  },
  {
   "cell_type": "markdown",
   "id": "81930540-eba4-42e4-83c2-029da8b0b9db",
   "metadata": {},
   "source": [
    "## 21. Merge Two Sorted Lists\n",
    "You are given the heads of two sorted linked lists list1 and list2.\n",
    "Merge the two lists into one sorted list. The list should be made by splicing together the nodes of the first two lists.\n",
    "Return the head of the merged linked list.\n",
    "\n",
    "Example 1:\n",
    "\n",
    "<img src='merge_ex1.jpg' img/>\n",
    "\n",
    "Input: list1 = [1, 2, 4], list2 = [1, 3, 4]\n",
    "Output: [1, 1, 2, 3, 4, 4]\n",
    "\n",
    "Example 2:\n",
    "Input: list1 = [], list2 = []\n",
    "Output: []\n",
    "\n",
    "Example 3:\n",
    "Input: list1 = [], list2 = [0]\n",
    "Output: [0]\n"
   ]
  },
  {
   "cell_type": "code",
   "execution_count": null,
   "id": "d4877a7b-393d-4495-a7ff-68f00eae0d21",
   "metadata": {
    "tags": []
   },
   "outputs": [],
   "source": [
    "# Definition for singly-linked list.\n",
    "# class ListNode:\n",
    "#     def __init__(self, val=0, next=None):\n",
    "#         self.val = val\n",
    "#         self.next = next\n",
    "class Solution:\n",
    "    def mergeTwoLists(self, list1: ListNode, list2: ListNode):\n",
    "        dummy = ListNode() # initialize to 0 (edge case of inserting into an empty list)\n",
    "        tail = dummy\n",
    "        \n",
    "        while list1 and list2: #iterate both lists, while not null\n",
    "            if list1.val < list2.val:\n",
    "                tail.next = list1 #node\n",
    "                list1 = list1.next #update list1 pointer\n",
    "            else:\n",
    "                tail.next = list2\n",
    "                list2 = list2.next\n",
    "            tail = tail.next  #update tail pointer regardless of list\n",
    "        #if one list is empty, take reminder of list and put at the end of the list\n",
    "        if list1:\n",
    "            tail.next = list1\n",
    "        elif list2:\n",
    "            tail.next = list2\n",
    "            \n",
    "        return dummy.next\n",
    "        "
   ]
  },
  {
   "cell_type": "markdown",
   "id": "1ffff95c-0f58-4eb4-8afb-2ca612d9e7ce",
   "metadata": {},
   "source": [
    "## 104. Maximum Depth of a Binary Tree\n",
    "Given the root of a binary tree, return its maximum depth.\n",
    "\n",
    "A binary tree's maximum depth is the number of nodes along the longest path from the root node down to the farthest leaf node.\n",
    "\n",
    "Example 1:\n",
    "\n",
    "<img src='tmp-tree.jpg' />\n",
    "\n",
    "Input: root = [3,9,20,null,null,15,7]\n",
    "Output: 3\n",
    "\n",
    "Example 2:\n",
    "\n",
    "Input: root = [1,null,2]\n",
    "Output: 2\n"
   ]
  },
  {
   "cell_type": "code",
   "execution_count": 1,
   "id": "32675615-5b07-44ac-bac9-276fb050b183",
   "metadata": {
    "tags": []
   },
   "outputs": [],
   "source": [
    "# Definition for a binary tree node.\n",
    "class TreeNode:\n",
    "    def __init__(self, val=0, left=None, right=None):        \n",
    "        self.val = val\n",
    "        self.left = left\n",
    "        self.right = right\n",
    "class Solution:\n",
    "    def maxDepth(self, root: TreeNode) -> int: ##recursive\n",
    "        if not root: #if null\n",
    "            return 0\n",
    "        else:\n",
    "            return 1 + max(self.maxDepth(root.left), self.maxDepth(root.right))"
   ]
  },
  {
   "cell_type": "code",
   "execution_count": null,
   "id": "fbc7e91f-03e9-46df-812a-4da003af2285",
   "metadata": {},
   "outputs": [],
   "source": [
    "class TreeNode:\n",
    "    def __init__(self, val=0, left=None, right=None):        \n",
    "        self.val = val\n",
    "        self.left = left\n",
    "        self.right = right\n",
    "class Solution:\n",
    "    def maxDepth(self, root: TreeNode) -> int: ##BFS\n",
    "        if not root:\n",
    "            return 0:\n",
    "        level = 0\n",
    "        q = deque([root])\n",
    "        \n",
    "        while q:\n",
    "            for i in range(len(q)):\n",
    "                node = q.popleft()\n",
    "                if node.left:\n",
    "                    q.append(node.left)\n",
    "                if node.right:\n",
    "                    q.append(node.right)\n",
    "            level += 1\n",
    "        return level"
   ]
  },
  {
   "cell_type": "code",
   "execution_count": null,
   "id": "7c5e4071-8d0d-4cad-91f8-27156bcc82cb",
   "metadata": {},
   "outputs": [],
   "source": [
    "class TreeNode:\n",
    "    def __init__(self, val=0, left=None, right=None):        \n",
    "        self.val = val\n",
    "        self.left = left\n",
    "        self.right = right\n",
    "class Solution:\n",
    "    def maxDepth(self, root: TreeNode) -> int: ##DFS\n",
    "        stack = [[root, 1]]\n",
    "        res = 0\n",
    "        \n",
    "        while stack:\n",
    "            node, depth = stack.pop()\n",
    "            if node:\n",
    "                res = max(res, depth)\n",
    "                stack.append([node.left, depth + 1])\n",
    "                stack.append([node.right, depth + 1])\n",
    "        return res"
   ]
  },
  {
   "cell_type": "markdown",
   "id": "71ebc9e6-5c47-46ee-81db-7f605917c7fe",
   "metadata": {},
   "source": [
    "## 100. Same Tree\n",
    "Given the roots of two binary trees p and q, write a function to check if they are the same or not.\n",
    "Two binary trees are considered the same if they are structurally identical, and the nodes have the same value.\n",
    " \n",
    "\n",
    "Example 1:\n",
    "\n",
    "<img src='ex1.jpg' img />\n",
    "\n",
    "Input: p = [1,2,3], q = [1,2,3]\n",
    "Output: true\n",
    "\n",
    "Example 2:\n",
    "\n",
    "<img src='ex2.jpg' img />\n",
    "\n",
    "Input: p = [1,2], q = [1,null,2]\n",
    "Output: false\n",
    "\n",
    "Example 3:\n",
    "\n",
    "<img src='ex3.jpg' img />\n",
    "\n",
    "Input: p = [1,2,1], q = [1,1,2]\n",
    "Output: false\n"
   ]
  },
  {
   "cell_type": "code",
   "execution_count": null,
   "id": "2f4d5411-7fa3-46e3-b98d-c30aa3104f80",
   "metadata": {},
   "outputs": [],
   "source": [
    "# Definition for a binary tree node.\n",
    "# class TreeNode:\n",
    "#     def __init__(self, val=0, left=None, right=None):\n",
    "#         self.val = val\n",
    "#         self.left = left\n",
    "#         self.right = right\n",
    "class Solution:\n",
    "    def isSameTree(self, p: Optional[TreeNode], q: Optional[TreeNode]) -> bool:\n",
    "        if not p and not q: #both empty so they're the same\n",
    "            return True\n",
    "        if not p or not q or p.val != q.val:\n",
    "            return False\n",
    "        \n",
    "        return (self.isSameTree(p.left, q.left) and self.isSameTree(p.right, q.right))"
   ]
  },
  {
   "cell_type": "markdown",
   "id": "d2f19276-13dd-4408-9821-86b89f817137",
   "metadata": {},
   "source": [
    "## 226. Invert Binary Tree\n",
    "Given the root of a binary tree, invert the tree, and return its root.\n",
    "\n",
    "Example 1:\n",
    "\n",
    "<img src='invert1-tree.jpg' img/>\n",
    "\n",
    "Input: root = [4,2,7,1,3,6,9]\n",
    "Output: [4,7,2,9,6,3,1]\n",
    "\n",
    "Example 2:\n",
    "\n",
    "<img src='invert2-tree.jpg' img/>\n",
    "\n",
    "Input: root = [2,1,3]\n",
    "Output: [2,3,1]\n",
    "\n",
    "Example 3:\n",
    "\n",
    "Input: root = []\n",
    "Output: []\n"
   ]
  },
  {
   "cell_type": "code",
   "execution_count": null,
   "id": "8ee599b5-23d1-41d9-8ae2-136d02c7fa42",
   "metadata": {
    "tags": []
   },
   "outputs": [],
   "source": [
    "# Definition for a binary tree node.\n",
    "class TreeNode:\n",
    "    def __init__(self, val=0, left=None, right=None):     \n",
    "        self.val = val\n",
    "        self.left = left\n",
    "        self.right = right\n",
    "        \n",
    "class Solution:\n",
    "    def invertTree(self, root: TreeNode):\n",
    "        if not root:\n",
    "            return\n",
    "        root.left, root.right = root.right, root.left #swap nodes\n",
    "        #for every node visited, swap children too\n",
    "        self.invertTree(root.left) #swapping child nodes\n",
    "        self.invertTree(root.right)\n",
    "        return root"
   ]
  },
  {
   "cell_type": "markdown",
   "id": "68e3d62b-21ce-4391-b808-4fc8369af42b",
   "metadata": {},
   "source": [
    "## 124. Binary Tree Maximum Path Sum\n",
    "A path in a binary tree is a sequence of nodes where each pair of adjacent nodes in the sequence has an edge connecting them. A node can only appear in the sequence at most once. Note that the path does not need to pass through the root.\n",
    "The path sum of a path is the sum of the node's values in the path.\n",
    "Given the root of a binary tree, return the maximum path sum of any non-empty path.\n",
    "\n",
    "Example 1:\n",
    "\n",
    "<img src='exx1.jpg' img/>\n",
    "\n",
    "Input: root = [1,2,3]\n",
    "Output: 6\n",
    "\n",
    "Explanation: The optimal path is 2 -> 1 -> 3 with a path sum of 2 + 1 + 3 = 6.\n",
    "\n",
    "Example 2:\n",
    "\n",
    "<img src='exx2.jpg' img/>\n",
    "\n",
    "Input: root = [-10,9,20,null,null,15,7]\n",
    "Output: 42\n",
    "\n",
    "Explanation: The optimal path is 15 -> 20 -> 7 with a path sum of 15 + 20 + 7 = 42.\n"
   ]
  },
  {
   "cell_type": "code",
   "execution_count": null,
   "id": "c48175ba-afa1-4b5b-8f17-ed5bde4c13de",
   "metadata": {},
   "outputs": [],
   "source": [
    "# Definition for a binary tree node.\n",
    "# class TreeNode:\n",
    "#     def __init__(self, val=0, left=None, right=None):\n",
    "#         self.val = val\n",
    "#         self.left = left\n",
    "#         self.right = right\n",
    "class Solution:\n",
    "    def maxPathSum(self, root: Optional[TreeNode]) -> int:\n",
    "        res = [root.val] #global variable for result, initialize to root value\n",
    "        \n",
    "        def pathSum(root):\n",
    "            if root is None:\n",
    "                return 0\n",
    "            right = max(0, pathSum(root.right)) #if root is a a -ve number we take 0 instead\n",
    "            left = max(0, pathSum(root.left))\n",
    "            res = max(res, right + left + root.val)\n",
    "            return max(left, right) + root.val #\n",
    "        \n",
    "        pathSum(root)\n",
    "        return res"
   ]
  },
  {
   "cell_type": "markdown",
   "id": "0c56c5d1-9919-498e-b827-0eb3b401fca4",
   "metadata": {},
   "source": [
    "## 102. Binary Tree Level Order Traversal\n",
    "Given the root of a binary tree, return the level order traversal of its nodes' values. (i.e., from left to right, level by level).\n",
    "\n",
    "Example 1:\n",
    "\n",
    "<img src='tree1.jpg' img/>\n",
    "\n",
    "Input: root = [3,9,20,null,null,15,7]\n",
    "\n",
    "Output: [[3],[9,20],[15,7]]\n",
    "\n",
    "Example 2:\n",
    "\n",
    "Input: root = [1]\n",
    "Output: [[1]]\n",
    "\n",
    "Example 3:\n",
    "\n",
    "Input: root = []\n",
    "Output: []\n"
   ]
  },
  {
   "cell_type": "code",
   "execution_count": null,
   "id": "9aeddd8d-a426-4317-9ac7-4a86888746f7",
   "metadata": {},
   "outputs": [],
   "source": [
    "# Definition for a binary tree node.\n",
    "# class TreeNode:\n",
    "#     def __init__(self, val=0, left=None, right=None):\n",
    "#         self.val = val\n",
    "#         self.left = left\n",
    "#         self.right = right\n",
    "class Solution:\n",
    "    def levelOrder(self, root: TreeNode):\n",
    "        if root is None:\n",
    "            return []\n",
    "        queue = [root]\n",
    "        next_queue = []\n",
    "        level = []\n",
    "        result = []\n",
    "        while queue != []:\n",
    "            for root in queue:\n",
    "                level.append(root.val)\n",
    "                if root.left is not None:\n",
    "                    next_queue.append(root.left)\n",
    "                if root.right is not None:\n",
    "                    next_queue.append(root.right)\n",
    "            result.append(level)\n",
    "            level = []\n",
    "            queue = next_queue\n",
    "            next_queue = []\n",
    "        return result\n",
    "        "
   ]
  },
  {
   "cell_type": "markdown",
   "id": "f5e616f6-5bab-4317-9152-e031c4ba28c2",
   "metadata": {},
   "source": [
    "## 572. Subtree of Another Tree\n",
    "Given the roots of two binary trees root and subRoot, return true if there is a subtree of root with the same structure and node values of subRoot and false otherwise.\n",
    "\n",
    "A subtree of a binary tree tree is a tree that consists of a node in tree and all of this node's descendants. The tree tree could also be considered as a subtree of itself.\n",
    "\n",
    "Example 1:\n",
    "\n",
    "<img src='subtree1-tree.jpg' img/>\n",
    "\n",
    "Input: root = [3,4,5,1,2],  subRoot = [4,1,2]\n",
    "<br> Output: true\n",
    "\n",
    "Example 2:\n",
    "\n",
    "<img src='subtree2-tree.jpg' img/>\n",
    "\n",
    "Input: root = [3,4,5,1,2,null,null,null,null,0],  subRoot = [4,1,2]\n",
    "<br> Output: false\n"
   ]
  },
  {
   "cell_type": "code",
   "execution_count": null,
   "id": "baeb66ba-def0-4cb7-9758-825478dc6de7",
   "metadata": {},
   "outputs": [],
   "source": [
    "# Definition for a binary tree node.\n",
    "# class TreeNode:\n",
    "#     def __init__(self, val=0, left=None, right=None):\n",
    "#         self.val = val\n",
    "#         self.left = left\n",
    "#         self.right = right\n",
    "class Solution:\n",
    "    def sameTree(p, q):\n",
    "        if not p and not q: ##both empty so they're the same\n",
    "            return True\n",
    "        if not p or not q and p.val != q.val:\n",
    "            return False\n",
    "        return self.sameTree(p.left, q.left) and self.sameTree(p.right, q.right) ##returns true if they are all equal\n",
    "    \n",
    "    def isSubtree(self, root, subRoot):\n",
    "        if subRoot is None:\n",
    "            return True\n",
    "        if root is None:\n",
    "            return False\n",
    "        if self.sameTree(root, subRoot):\n",
    "            return True\n",
    "        return self.isSubtree(root.left, subRoot) or self.isSubtree(root.right, subRoot)\n",
    "        "
   ]
  },
  {
   "cell_type": "code",
   "execution_count": null,
   "id": "ab3b5fb2-2759-4ca7-b6bf-957cc3910da6",
   "metadata": {},
   "outputs": [],
   "source": []
  },
  {
   "cell_type": "markdown",
   "id": "f447da83-6c6e-49e6-8d5e-6951a6925fc9",
   "metadata": {},
   "source": [
    "## 371. Sum of Two Integers\n",
    "Given two integers a and b, return the sum of the two integers without using the operators + and -.\n",
    "\n",
    " \n",
    "\n",
    "Example 1:\n",
    "\n",
    "Input: a = 1, b = 2\n",
    "Output: 3\n",
    "\n",
    "Example 2:\n",
    "\n",
    "Input: a = 2, b = 3\n",
    "Output: 5\n"
   ]
  },
  {
   "cell_type": "code",
   "execution_count": null,
   "id": "cabe1ea1-da00-42ca-adc3-acd2c2e55bec",
   "metadata": {
    "tags": []
   },
   "outputs": [],
   "source": [
    "def getSum(a, b):\n",
    "    mask = 0xffffffff  #prevent overflow with 32bits (all 32 bits initialized to 1)\n",
    "    #continue if the first 32 masks of b > 0, otherwise we are just carrying 1 endlessly\n",
    "    while (mask&b) > 0: #while we still have a carry\n",
    "        a, b = a^b, (a&b)<<1 #a is sum without carry, b is the carry (shifted left once)\n",
    "    return (mask&a) if b > 0 else a\n",
    "# (mask&a) we are returning the 1st 32bits"
   ]
  },
  {
   "cell_type": "markdown",
   "id": "87dc46a5-c131-45d5-a451-8e7b810a5786",
   "metadata": {},
   "source": [
    "## 191. Number of 1 Bits\n",
    "Write a function that takes the binary representation of a positive integer and returns the number of set bits it has (also known as the Hamming weight).\n",
    "\n",
    "Example 1:\n",
    "Input: n = 11\n",
    "Output: 3\n",
    "\n",
    "Explanation:\n",
    "The input binary string 1011 has a total of three set bits.\n",
    "\n",
    "Example 2:\n",
    "Input: n = 128\n",
    "Output: 1\n",
    "\n",
    "Explanation:\n",
    "The input binary string 10000000 has a total of one set bit.\n",
    "\n",
    "Example 3:\n",
    "Input: n = 2147483645\n",
    "Output: 30\n",
    "\n",
    "Explanation:\n",
    "The input binary string 1111111111111111111111111111101 has a total of thirty set bits.\n"
   ]
  },
  {
   "cell_type": "code",
   "execution_count": null,
   "id": "96fde543-eeb1-4855-959c-5c34a1eb8176",
   "metadata": {
    "tags": []
   },
   "outputs": [],
   "source": [
    "n = bin(11)[2:]"
   ]
  },
  {
   "cell_type": "code",
   "execution_count": null,
   "id": "41ca0124-124a-4378-b4a3-c1fd001e147f",
   "metadata": {
    "tags": []
   },
   "outputs": [],
   "source": [
    "def hammingWeight( n) -> int:\n",
    "    counts = 0\n",
    "    while n:\n",
    "        counts += n&1\n",
    "        n >>= 1\n",
    "    return counts"
   ]
  },
  {
   "cell_type": "markdown",
   "id": "fe8db95a-4e47-41aa-8d54-6306ef695a61",
   "metadata": {},
   "source": [
    "## 338. Counting Bits\n",
    "Given an integer n, return an array ans of length n + 1 such that for each i (0 <= i <= n), ans[i] is the number of 1's in the binary representation of i.\n",
    "\n",
    "\n",
    "Example 1:\n",
    "\n",
    "Input: n = 2\n",
    "Output: [0,1,1]\n",
    "Explanation:\n",
    "0 --> 0\n",
    "1 --> 1\n",
    "2 --> 10\n",
    "\n",
    "Example 2:\n",
    "\n",
    "Input: n = 5\n",
    "Output: [0,1,1,2,1,2]\n",
    "Explanation:\n",
    "0 --> 0\n",
    "1 --> 1\n",
    "2 --> 10\n",
    "3 --> 11\n",
    "4 --> 100\n",
    "5 --> 101\n"
   ]
  },
  {
   "cell_type": "code",
   "execution_count": null,
   "id": "b6f1f75c-d9ce-43b2-b5e3-587c1d60e60c",
   "metadata": {
    "tags": []
   },
   "outputs": [],
   "source": [
    "n"
   ]
  },
  {
   "cell_type": "markdown",
   "id": "972d27c4-7795-4f3a-8136-2d89fb8324e7",
   "metadata": {},
   "source": [
    "## 190. Reverse Bits\n",
    "Reverse bits of a given 32 bits unsigned integer.\n",
    "\n",
    "Note:\n",
    "\n",
    "    Note that in some languages, such as Java, there is no unsigned integer type. In this case, both input and output will be given as a signed integer type. They should not affect your implementation, as the integer's internal binary representation is the same, whether it is signed or unsigned.\n",
    "    In Java, the compiler represents the signed integers using 2's complement notation. Therefore, in Example 2 above, the input represents the signed integer -3 and the output represents the signed integer -1073741825.\n",
    "\n",
    " \n",
    "\n",
    "Example 1: <br>\n",
    "Input: n = 00000010100101000001111010011100 <br>\n",
    "Output:    964176192 (00111001011110000010100101000000) <br>\n",
    "Explanation: The input binary string 00000010100101000001111010011100 represents the unsigned integer 43261596, so return 964176192 which its binary representation is 00111001011110000010100101000000.\n",
    "\n",
    "Example 2: <br>\n",
    "Input: n = 11111111111111111111111111111101 <br>\n",
    "Output:   3221225471 (10111111111111111111111111111111) <br>\n",
    "Explanation: The input binary string 11111111111111111111111111111101 represents the unsigned integer 4294967293, so return 3221225471 which its binary representation is 10111111111111111111111111111111.\n",
    "\n",
    " \n",
    "\n",
    "Constraints: <br>\n",
    "    The input must be a binary string of length 32\n"
   ]
  },
  {
   "cell_type": "code",
   "execution_count": null,
   "id": "c579046f-9d9e-4510-a378-f57550421215",
   "metadata": {
    "tags": []
   },
   "outputs": [],
   "source": [
    "def reverseBits( n):\n",
    "    rev = 0\n",
    "    for _ in range(32):\n",
    "        rev = (rev << 1) | (n & 1)\n",
    "        n >>= 1\n",
    "    return rev"
   ]
  },
  {
   "cell_type": "markdown",
   "id": "4e7364e5-1050-4bc3-8e5e-9038712fde36",
   "metadata": {},
   "source": [
    "## Binary Trees"
   ]
  },
  {
   "cell_type": "code",
   "execution_count": null,
   "id": "cd5039e4-d282-4894-aa78-daca1e20eb92",
   "metadata": {},
   "outputs": [],
   "source": [
    "class Node:\n",
    "    def__init__(self, data):\n",
    "        self.left = None\n",
    "        self.right = None\n",
    "        self.data = data\n",
    "        \n",
    "    def insert(self, data):\n",
    "        if self.data is None:\n",
    "            self.data = data\n",
    "        else:\n",
    "            if data < self.data:\n",
    "                if self.left is None:\n",
    "                    self.left = Node(data)\n",
    "                else:\n",
    "                    self.left.insert(data)\n",
    "            elif data > self.data:\n",
    "                if self.right is None:\n",
    "                    self.right = Node(data)\n",
    "                else:\n",
    "                    self.right.insert(data)"
   ]
  },
  {
   "cell_type": "markdown",
   "id": "445df2c0-be23-4a93-bbc2-c3017517fa94",
   "metadata": {},
   "source": [
    "## 56. Merge Intervals\n",
    "Given an array of intervals where intervals[i] = [starti, endi], merge all overlapping intervals, and return an array of the non-overlapping intervals that cover all the intervals in the input.\n",
    "\n",
    "Example 1:\n",
    "\n",
    "Input: intervals = [[1,3],[2,6],[8,10],[15,18]]\n",
    "\n",
    "Output: [[1,6],[8,10],[15,18]]\n",
    "\n",
    "Explanation: Since intervals [1,3] and [2,6] overlap, merge them into [1,6].\n",
    "\n",
    "Example 2:\n",
    "\n",
    "Input: intervals = [[1,4],[4,5]]\n",
    "\n",
    "Output: [[1,5]]\n",
    "\n",
    "Explanation: Intervals [1,4] and [4,5] are considered overlapping.\n",
    "\n",
    "Constraints:\n",
    "\n",
    "    1 <= intervals.length <= 104\n",
    "    intervals[i].length == 2\n",
    "    0 <= starti <= endi <= 104\n"
   ]
  },
  {
   "cell_type": "code",
   "execution_count": 1,
   "id": "46c1738b-491e-4c28-8d36-31681ba2b8db",
   "metadata": {},
   "outputs": [],
   "source": [
    "def merge(intervals):\n",
    "    intervals.sort()\n",
    "    res = []\n",
    "\n",
    "    for i in intervals:\n",
    "        if not res or res[-1][1] < i[0]:\n",
    "            res.append(i)\n",
    "        else:\n",
    "            res[-1] = [res[-1][0], max(res[-1][1], i[1])]\n",
    "    return res\n"
   ]
  },
  {
   "cell_type": "code",
   "execution_count": 2,
   "id": "211e0cf9-67f1-4ed6-a1cb-4e95d8a3d22e",
   "metadata": {},
   "outputs": [
    {
     "data": {
      "text/plain": [
       "[[1, 6], [8, 10], [15, 18]]"
      ]
     },
     "execution_count": 2,
     "metadata": {},
     "output_type": "execute_result"
    }
   ],
   "source": [
    "intervals = [[1,3],[2,6],[8,10],[15,18]]\n",
    "merge(intervals)"
   ]
  },
  {
   "cell_type": "code",
   "execution_count": null,
   "id": "63861850-8ca5-4ae3-822f-b2fc065bbaa1",
   "metadata": {},
   "outputs": [],
   "source": []
  },
  {
   "cell_type": "markdown",
   "id": "17a0c09a-0b8b-445e-8c21-be3a45bebb66",
   "metadata": {},
   "source": [
    "## 57. Insert Interval\n",
    "You are given an array of non-overlapping intervals intervals where intervals[i] = [starti, endi] represent the start and the end of the ith interval and intervals is sorted in ascending order by starti. You are also given an interval newInterval = [start, end] that represents the start and end of another interval.\n",
    "\n",
    "Insert newInterval into intervals such that intervals is still sorted in ascending order by starti and intervals still does not have any overlapping intervals (merge overlapping intervals if necessary).\n",
    "\n",
    "Return intervals after the insertion.\n",
    "\n",
    "Note that you don't need to modify intervals in-place. You can make a new array and return it.\n",
    "\n",
    "Example 1:\n",
    "\n",
    "Input: intervals = [[1,3],[6,9]], newInterval = [2,5]\n",
    "Output: [[1,5],[6,9]]\n",
    "\n",
    "\n",
    "Example 2:\n",
    "\n",
    "Input: intervals = [[1,2],[3,5],[6,7],[8,10],[12,16]], newInterval = [4,8]\n",
    "\n",
    "Output: [[1,2],[3,10],[12,16]]\n",
    "\n",
    "Explanation: Because the new interval [4,8] overlaps with [3,5],[6,7],[8,10].\n"
   ]
  },
  {
   "cell_type": "code",
   "execution_count": 7,
   "id": "8c315c33-8a85-42b2-9112-868303937cc4",
   "metadata": {},
   "outputs": [],
   "source": [
    "def insert(intervals, newInterval):\n",
    "    res = []\n",
    "\n",
    "    for i in range(len(intervals)):\n",
    "        if newInterval[1] < intervals[i][0]: #if new interval is less than all the other intervals, we place it at the start\n",
    "            res.append(newInterval)\n",
    "            return res + intervals[i:]\n",
    "        elif newInterval[0] > intervals[i][1]: #if newInterval > than some intervals\n",
    "            res.append(intervals[i])\n",
    "        else: #incase of an overlap new = min of both and max of both intervals\n",
    "            newInterval = [min(newInterval[0], intervals[i][0]), max(newInterval[1], intervals[i][1])]\n",
    "    res.append(newInterval)\n",
    "    return res\n"
   ]
  },
  {
   "cell_type": "code",
   "execution_count": 8,
   "id": "2bf3613d-9963-4c2e-81c9-133a19d20c89",
   "metadata": {},
   "outputs": [
    {
     "data": {
      "text/plain": [
       "[[1, 2], [3, 10], [12, 16]]"
      ]
     },
     "execution_count": 8,
     "metadata": {},
     "output_type": "execute_result"
    }
   ],
   "source": [
    "intervals = [[1,2],[3,5],[6,7],[8,10],[12,16]]\n",
    "newInterval = [4,8]\n",
    "insert(intervals, newInterval)"
   ]
  },
  {
   "cell_type": "code",
   "execution_count": null,
   "id": "eeba2f4b-d528-4bba-abd0-b2b11c6b91c3",
   "metadata": {},
   "outputs": [],
   "source": []
  },
  {
   "cell_type": "markdown",
   "id": "ffcfc427-477d-4c2d-a1dd-6fef51b3bc13",
   "metadata": {},
   "source": [
    "## 252. Meeting Rooms\n",
    "Given an array of meeting time intervals where intervals[i] = [starti, endi], determine if a person could attend all meetings.\n",
    "\n",
    " \n",
    "\n",
    "Example 1:\n",
    "\n",
    "Input: intervals = [[0,30],[5,10],[15,20]]\n",
    "Output: false\n",
    "Example 2:\n",
    "\n",
    "Input: intervals = [[7,10],[2,4]]\n",
    "Output: true"
   ]
  },
  {
   "cell_type": "code",
   "execution_count": 24,
   "id": "ae305486-1af6-41c4-ab26-93ba280825d7",
   "metadata": {},
   "outputs": [],
   "source": [
    "def canAttendMeet(intervals):\n",
    "    intervals.sort()\n",
    "\n",
    "    for i in range(len(intervals) -1):\n",
    "        a = intervals[i]\n",
    "        b = intervals[i+1]\n",
    "        if a[1] > b[0]:\n",
    "            return False\n",
    "    return True"
   ]
  },
  {
   "cell_type": "code",
   "execution_count": 25,
   "id": "c10e03a7-71bf-4e5d-8eea-24ea12e16fb1",
   "metadata": {},
   "outputs": [
    {
     "data": {
      "text/plain": [
       "False"
      ]
     },
     "execution_count": 25,
     "metadata": {},
     "output_type": "execute_result"
    }
   ],
   "source": [
    "intervals = [[0,30],[5,10],[15,20]]\n",
    "canAttendMeet(intervals)"
   ]
  },
  {
   "cell_type": "code",
   "execution_count": 26,
   "id": "77870acd-94b2-4b0d-8f70-bad49e57c59b",
   "metadata": {},
   "outputs": [
    {
     "data": {
      "text/plain": [
       "True"
      ]
     },
     "execution_count": 26,
     "metadata": {},
     "output_type": "execute_result"
    }
   ],
   "source": [
    "intervals = [[7,10],[2,4]]\n",
    "canAttendMeet(intervals)"
   ]
  },
  {
   "cell_type": "code",
   "execution_count": null,
   "id": "25f8cd34-e017-49b5-8dd6-31d96cfa4825",
   "metadata": {},
   "outputs": [],
   "source": []
  },
  {
   "cell_type": "markdown",
   "id": "49f8ac40-5847-48d2-a964-c03957852a5a",
   "metadata": {},
   "source": [
    "## 253. Meeting Rooms II\n",
    "Given an array of meeting time interval objects consisting of start and end times [[start_1,end_1],[start_2,end_2],...] (start_i < end_i), find the minimum number of days required to schedule all meetings without any conflicts.\n",
    "\n",
    "Example 1:\n",
    "\n",
    "Input: intervals = [(0,40),(5,10),(15,20)]\n",
    "\n",
    "Output: 2\n",
    "Explanation:\n",
    "day1: (0,40)\n",
    "day2: (5,10),(15,20)\n",
    "\n",
    "Example 2:\n",
    "\n",
    "Input: intervals = [(4,9)]\n",
    "\n",
    "Output: 1\n",
    "Note:\n",
    "\n",
    "(0,8),(8,10) is not considered a conflict at 8\n",
    "Constraints:\n",
    "\n",
    "0 <= intervals.length <= 500\n",
    "0 <= intervals[i].start < intervals[i].end <= 1,000,000"
   ]
  },
  {
   "cell_type": "code",
   "execution_count": 27,
   "id": "12533833-bca4-43b4-a8f9-95cb52700606",
   "metadata": {},
   "outputs": [],
   "source": [
    "import heapq\n",
    "def minMeetingRoom(intervals):\n",
    "    if not intervals:\n",
    "        return 0\n",
    "    intervals.sort()\n",
    "    res = []\n",
    "\n",
    "    heapq.heappush(res, intervals[0][1])\n",
    "    for i in intervals[1:]:\n",
    "        if res[0] <= i[0]:\n",
    "            heapq.heappop(res)\n",
    "        heapq.heappush(res, i[1])\n",
    "    return len(res)\n"
   ]
  },
  {
   "cell_type": "code",
   "execution_count": 28,
   "id": "e7e7aa74-f1a4-4864-9912-3e9cc66d4051",
   "metadata": {},
   "outputs": [
    {
     "data": {
      "text/plain": [
       "2"
      ]
     },
     "execution_count": 28,
     "metadata": {},
     "output_type": "execute_result"
    }
   ],
   "source": [
    "intervals = [(0,40),(5,10),(15,20)]\n",
    "minMeetingRoom(intervals)"
   ]
  },
  {
   "cell_type": "code",
   "execution_count": null,
   "id": "15134c93-1719-4034-8992-c916df4a8e39",
   "metadata": {},
   "outputs": [],
   "source": []
  },
  {
   "cell_type": "markdown",
   "id": "44071b88-6508-4156-93c6-7854fbe38ef7",
   "metadata": {},
   "source": [
    "## 133. Clone Graph\n",
    "Given a reference of a node in a connected undirected graph.\n",
    "\n",
    "Return a deep copy (clone) of the graph.\n",
    "\n",
    "Each node in the graph contains a value (int) and a list (List[Node]) of its neighbors.\n",
    "\n",
    "class Node {\n",
    "    public int val;\n",
    "    public List<Node> neighbors;\n",
    "}\n",
    "\n",
    "Test case format:\n",
    "\n",
    "For simplicity, each node's value is the same as the node's index (1-indexed). For example, the first node with val == 1, the second node with val == 2, and so on. The graph is represented in the test case using an adjacency list.\n",
    "\n",
    "An adjacency list is a collection of unordered lists used to represent a finite graph. Each list describes the set of neighbors of a node in the graph.\n",
    "\n",
    "The given node will always be the first node with val = 1. You must return the copy of the given node as a reference to the cloned graph.\n",
    "\n",
    "Example 1:\n",
    "\n",
    "<img src='clone.jpg' img/>\n",
    "\n",
    "Input: adjList = [[2,4],[1,3],[2,4],[1,3]]\n",
    "\n",
    "Output: [[2,4],[1,3],[2,4],[1,3]]\n",
    "\n",
    "Explanation: There are 4 nodes in the graph.\n",
    "\n",
    "1st node (val = 1)'s neighbors are 2nd node (val = 2) and 4th node (val = 4).\n",
    "\n",
    "2nd node (val = 2)'s neighbors are 1st node (val = 1) and 3rd node (val = 3).\n",
    "\n",
    "3rd node (val = 3)'s neighbors are 2nd node (val = 2) and 4th node (val = 4).\n",
    "\n",
    "4th node (val = 4)'s neighbors are 1st node (val = 1) and 3rd node (val = 3).\n",
    "\n",
    "Example 2:\n",
    "\n",
    "Input: adjList = [[]]\n",
    "\n",
    "Output: [[]]\n",
    "\n",
    "Explanation: Note that the input contains one empty list. The graph consists of only one node with val = 1 and it does not have any neighbors.\n",
    "\n",
    "Example 3:\n",
    "\n",
    "Input: adjList = []\n",
    "\n",
    "Output: []\n",
    "\n",
    "Explanation: This an empty graph, it does not have any nodes.\n",
    "\n",
    "Constraints:\n",
    "\n",
    "    The number of nodes in the graph is in the range [0, 100].\n",
    "    1 <= Node.val <= 100\n",
    "    Node.val is unique for each node.\n",
    "    There are no repeated edges and no self-loops in the graph.\n",
    "    The Graph is connected and all nodes can be visited starting from the given node.\n"
   ]
  },
  {
   "cell_type": "code",
   "execution_count": 3,
   "id": "be9458b7-8234-4261-9e05-0f294208a005",
   "metadata": {},
   "outputs": [],
   "source": [
    "\"\"\"\n",
    "# Definition for a Node.\n",
    "class Node:\n",
    "    def __init__(self, val = 0, neighbors = None):\n",
    "        self.val = val\n",
    "        self.neighbors = neighbors if neighbors is not None else []\n",
    "\"\"\"\n",
    "\n",
    "from typing import Optional\n",
    "class Solution:\n",
    "    def cloneGraph(self, node: Optional['Node']) -> Optional['Node']:\n",
    "        pass"
   ]
  },
  {
   "cell_type": "code",
   "execution_count": 4,
   "id": "d4671c14-c30b-4581-a414-f2d228d07572",
   "metadata": {},
   "outputs": [],
   "source": [
    "class solution():\n",
    "    def cloneGraph(self, node):\n",
    "        oldNew = {}\n",
    "    \n",
    "        def dfs(node):\n",
    "            if node in oldNew:\n",
    "                return oldNew[node]\n",
    "            copy = Node(node.val)\n",
    "            oldNew[node] = copy\n",
    "    \n",
    "            for nei in node.neighbors:\n",
    "                copy.neighbors.append(dfs(nei))\n",
    "            return copy\n",
    "        return dfs(node) if node else None"
   ]
  },
  {
   "cell_type": "markdown",
   "id": "3b3b7cad-7746-42b3-afb8-390cf45b0c66",
   "metadata": {},
   "source": [
    "## 200. Number of Islands\n",
    "Given an m x n 2D binary grid grid which represents a map of '1's (land) and '0's (water), return the number of islands.\n",
    "\n",
    "An island is surrounded by water and is formed by connecting adjacent lands horizontally or vertically. You may assume all four edges of the grid are all surrounded by water.\n",
    "\n",
    " \n",
    "\n",
    "Example 1:\n",
    "\n",
    "Input: grid = [\n",
    "\n",
    "  [\"1\",\"1\",\"1\",\"1\",\"0\"],\n",
    "  \n",
    "  [\"1\",\"1\",\"0\",\"1\",\"0\"],\n",
    "  \n",
    "  [\"1\",\"1\",\"0\",\"0\",\"0\"],\n",
    "  \n",
    "  [\"0\",\"0\",\"0\",\"0\",\"0\"]]\n",
    "  \n",
    "Output: 1\n",
    "\n",
    "Example 2:\n",
    "\n",
    "Input: grid = [\n",
    "\n",
    "  [\"1\",\"1\",\"0\",\"0\",\"0\"],\n",
    "  \n",
    "  [\"1\",\"1\",\"0\",\"0\",\"0\"],\n",
    "  \n",
    "  [\"0\",\"0\",\"1\",\"0\",\"0\"],\n",
    "  \n",
    "  [\"0\",\"0\",\"0\",\"1\",\"1\"]]\n",
    "  \n",
    "Output: 3\n",
    "\n",
    " \n",
    "\n",
    "Constraints:\n",
    "\n",
    "    m == grid.length\n",
    "    n == grid[i].length\n",
    "    1 <= m, n <= 300\n",
    "    grid[i][j] is '0' or '1'.\n"
   ]
  },
  {
   "cell_type": "code",
   "execution_count": 5,
   "id": "fa82f8cf-993c-4c39-97dc-91eafaa9c50d",
   "metadata": {},
   "outputs": [],
   "source": [
    "def numIslands():\n",
    "    m, n = len(grid), len(grid[0])\n",
    "\n",
    "    def dfs(i, j):\n",
    "        if i < 0 or i >= m or j < 0 or grid[i][j] != '1':\n",
    "            return\n",
    "        else:\n",
    "            grid[i][j] = '0'\n",
    "            dfs(i, j+1) #right of grid\n",
    "            dfs(i+1, j) #bottom\n",
    "            dfs(i, j-1) #left\n",
    "            dfs(i-1, j) #up\n",
    "\n",
    "        num_islands = 0\n",
    "        for i in range(m):\n",
    "            for j in range(n):\n",
    "                if grid[i][j] == '1':\n",
    "                    num_islands += 1\n",
    "                    dfs(i, j)\n",
    "        return num_islands"
   ]
  },
  {
   "cell_type": "markdown",
   "id": "46ddacb1-9ff2-49d3-89b4-8e1cf8a094c2",
   "metadata": {},
   "source": [
    "## 207. Course Schedule\n",
    "There are a total of numCourses courses you have to take, labeled from 0 to numCourses - \n",
    "\n",
    "1. You are given an array prerequisites where prerequisites[i] = [ai, bi] indicates that you must take course bi first if you want to take course ai.\n",
    "\n",
    "    For example, the pair [0, 1], indicates that to take course 0 you have to first take course 1.\n",
    "\n",
    "Return true if you can finish all courses. Otherwise, return false.\n",
    "\n",
    "Example 1:\n",
    "\n",
    "Input: numCourses = 2, prerequisites = [[1,0]]\n",
    "\n",
    "Output: true\n",
    "\n",
    "Explanation: There are a total of 2 courses to take. \n",
    "To take course 1 you should have finished course 0. So it is possible.\n",
    "\n",
    "Example 2:\n",
    "\n",
    "Input: numCourses = 2, prerequisites = [[1,0],[0,1]]\n",
    "\n",
    "Output: false\n",
    "\n",
    "Explanation: There are a total of 2 courses to take. \n",
    "To take course 1 you should have finished course 0, and to take course 0 you should also have finished course 1. So it is impossible.\n",
    "\n",
    "Constraints:\n",
    "\n",
    "    1 <= numCourses <= 2000\n",
    "    0 <= prerequisites.length <= 5000\n",
    "    prerequisites[i].length == 2\n",
    "    0 <= ai, bi < numCourses\n",
    "    All the pairs prerequisites[i] are unique.\n"
   ]
  },
  {
   "cell_type": "code",
   "execution_count": 6,
   "id": "3f771ab8-08d4-4f45-b4b2-fa83c7b19fcc",
   "metadata": {},
   "outputs": [],
   "source": [
    "def preRequisites(self, numCourses, prerequisites):\n",
    "    #map each course to prereq list\n",
    "    preReq = {i : [] for i in range(numCourses)}\n",
    "    \n",
    "    for crs, pre in prerequisites: #get each course and it's prerequisites\n",
    "        preReq[crs].append(pre)    #append to empty list\n",
    "\n",
    "    visitSet = set()    #for storing all courses along the current dfs path\n",
    "    def dfs(crs):\n",
    "        if crs in visitSet:  #cycle exists and course can't be completed\n",
    "            return False\n",
    "        if preReq[crs] == []: #course has no prerequisites\n",
    "            return True\n",
    "\n",
    "        visitSet.add(crs) #if it meets the above conditions then we work on it\n",
    "        for pre in preReq[crs]:\n",
    "            if not dfs(pre):  #if 1 course cannot be completed\n",
    "                return False\n",
    "        visitSet.remove(crs) #now remove course because we have already visited it\n",
    "        preReq[crs] = [] #if we run into this course again, already worked on it\n",
    "        return True\n",
    "\n",
    "    for crs in range(numCourses): #calling our dfs function for every course we have\n",
    "        if not dfs(crs): #if any course returns false, return false for all\n",
    "            return False\n",
    "    return True # if no false return True"
   ]
  },
  {
   "cell_type": "code",
   "execution_count": null,
   "id": "13ad74ac-9f99-40d6-a69f-e84230c6f56a",
   "metadata": {},
   "outputs": [],
   "source": []
  },
  {
   "cell_type": "markdown",
   "id": "02a81b55-42f2-41a2-9ad2-50472e0f3d93",
   "metadata": {},
   "source": [
    "## 417.Pacific Atlantic WaterFlow\n",
    "There is an m x n rectangular island that borders both the Pacific Ocean and Atlantic Ocean. The Pacific Ocean touches the island's left and top edges, and the Atlantic Ocean touches the island's right and bottom edges.\n",
    "\n",
    "The island is partitioned into a grid of square cells. You are given an m x n integer matrix heights where heights[r][c] represents the height above sea level of the cell at coordinate (r, c).\n",
    "\n",
    "The island receives a lot of rain, and the rain water can flow to neighboring cells directly north, south, east, and west if the neighboring cell's height is less than or equal to the current cell's height. Water can flow from any cell adjacent to an ocean into the ocean.\n",
    "\n",
    "Return a 2D list of grid coordinates result where result[i] = [ri, ci] denotes that rain water can flow from cell (ri, ci) to both the Pacific and Atlantic oceans.\n",
    "\n",
    "Example 1:\n",
    "\n",
    "<img src='ocean.jpg' img/>\n",
    "\n",
    "Input: heights = [[1,2,2,3,5],[3,2,3,4,4],[2,4,5,3,1],[6,7,1,4,5],[5,1,1,2,4]]\n",
    "\n",
    "Output: [[0,4],[1,3],[1,4],[2,2],[3,0],[3,1],[4,0]]\n",
    "\n",
    "Explanation: The following cells can flow to the Pacific and Atlantic oceans, as shown below:\n",
    "\n",
    "[0,4]: [0,4] -> Pacific Ocean \n",
    "       [0,4] -> Atlantic Ocean\n",
    "[1,3]: [1,3] -> [0,3] -> Pacific Ocean \n",
    "       [1,3] -> [1,4] -> Atlantic Ocean\n",
    "[1,4]: [1,4] -> [1,3] -> [0,3] -> Pacific Ocean \n",
    "       [1,4] -> Atlantic Ocean\n",
    "[2,2]: [2,2] -> [1,2] -> [0,2] -> Pacific Ocean \n",
    "       [2,2] -> [2,3] -> [2,4] -> Atlantic Ocean\n",
    "[3,0]: [3,0] -> Pacific Ocean \n",
    "       [3,0] -> [4,0] -> Atlantic Ocean\n",
    "[3,1]: [3,1] -> [3,0] -> Pacific Ocean \n",
    "       [3,1] -> [4,1] -> Atlantic Ocean\n",
    "[4,0]: [4,0] -> Pacific Ocean \n",
    "       [4,0] -> Atlantic Ocean\n",
    "       \n",
    "Note that there are other possible paths for these cells to flow to the Pacific and Atlantic oceans.\n",
    "\n",
    "Example 2:\n",
    "\n",
    "Input: heights = [[1]]\n",
    "\n",
    "Output: [[0,0]]\n",
    "\n",
    "Explanation: The water can flow from the only cell to the Pacific and Atlantic oceans.\n",
    "\n",
    "Constraints:\n",
    "\n",
    "    m == heights.length\n",
    "    n == heights[r].length\n",
    "    1 <= m, n <= 200\n",
    "    0 <= heights[r][c] <= 105\n",
    "\n"
   ]
  },
  {
   "cell_type": "code",
   "execution_count": 2,
   "id": "24e21c7b-e79f-490a-ade4-4b8ec670cdc9",
   "metadata": {},
   "outputs": [],
   "source": [
    "class Solution:\n",
    "    def pacificAtlantic(self, heights) :\n",
    "        ROWS, COLS = len(heights), len(heights[0])\n",
    "        pac, atl = set(), set()\n",
    "\n",
    "        def dfs(r, c, visit, prevHeight):\n",
    "            if ((r, c) in visit or \n",
    "                r < 0 or c < 0 or \n",
    "                r == ROWS or c == COLS or \n",
    "                heights[r][c] < prevHeight\n",
    "            ):\n",
    "                return\n",
    "            visit.add((r, c))\n",
    "            dfs(r + 1, c, visit, heights[r][c])\n",
    "            dfs(r - 1, c, visit, heights[r][c])\n",
    "            dfs(r, c + 1, visit, heights[r][c])\n",
    "            dfs(r, c - 1, visit, heights[r][c])\n",
    "\n",
    "        for c in range(COLS):\n",
    "            dfs(0, c, pac, heights[0][c])\n",
    "            dfs(ROWS - 1, c, atl, heights[ROWS - 1][c])\n",
    "\n",
    "        for r in range(ROWS):\n",
    "            dfs(r, 0, pac, heights[r][0])\n",
    "            dfs(r, COLS - 1, atl, heights[r][COLS - 1])\n",
    "\n",
    "        res = []\n",
    "        for r in range(ROWS):\n",
    "            for c in range(COLS):\n",
    "                if (r, c) in pac and (r, c) in atl:\n",
    "                    res.append([r, c])\n",
    "        return res"
   ]
  },
  {
   "cell_type": "code",
   "execution_count": null,
   "id": "626830e6-f966-4a21-a015-06013d6dc421",
   "metadata": {},
   "outputs": [],
   "source": []
  },
  {
   "cell_type": "markdown",
   "id": "7b7c94f4-f8cc-4ae5-8933-81fc221cbf3b",
   "metadata": {},
   "source": [
    "## 73. Set Matrix Zeroes\n",
    "\n",
    "Given an m x n integer matrix matrix, if an element is 0, set its entire row and column to 0's.\n",
    "\n",
    "You must do it in place.\n",
    "\n",
    "<img src='matrix.jpg' img/>\n",
    "\n",
    "Input: matrix = [[1,1,1],[1,0,1],[1,1,1]]\n",
    "\n",
    "Output: [[1,0,1],[0,0,0],[1,0,1]]\n",
    "\n",
    "Constraints:\n",
    "\n",
    "    m == matrix.length\n",
    "    n == matrix[0].length\n",
    "    1 <= m, n <= 200\n",
    "    -231 <= matrix[i][j] <= 231 - 1\n",
    "\n",
    " \n",
    "\n",
    "Follow up:\n",
    "\n",
    "    A straightforward solution using O(mn) space is probably a bad idea.\n",
    "    A simple improvement uses O(m + n) space, but still not the best solution.\n",
    "    Could you devise a constant space solution?\n"
   ]
  },
  {
   "cell_type": "code",
   "execution_count": 1,
   "id": "f1f0452e-4ddd-4378-8912-90993cc5b235",
   "metadata": {},
   "outputs": [],
   "source": [
    "def setZeroes(matrix):\n",
    "    row_flag = col_flag = False\n",
    "    rows = len(matrix)\n",
    "    cols = len(matrix[0])\n",
    "    for row in range(rows):\n",
    "        for col in range(cols):\n",
    "            if matrix[row][col] == 0:\n",
    "                if row == 0:\n",
    "                    row_flag = True\n",
    "                if col == 0:\n",
    "                    col_flag = True\n",
    "                elif row != 0 and col!= 0:\n",
    "                    matrix[row][0] = 0\n",
    "                    matrix[0][col] = 0\n",
    "    for row in range(1, rows):\n",
    "        for col in range(1, cols):\n",
    "            if matrix[row][0] == 0 or matrix[0][col] == 0:\n",
    "                matrix[row][col] = 0\n",
    "    if row_flag:\n",
    "        matrix[0] = [0]*cols\n",
    "    if col_flag:\n",
    "        for row in range(rows):\n",
    "            matrix[row][0] = 0\n",
    "    "
   ]
  },
  {
   "cell_type": "code",
   "execution_count": 3,
   "id": "7b025757-ca80-4d3d-bb08-25d30a3579de",
   "metadata": {},
   "outputs": [
    {
     "name": "stdout",
     "output_type": "stream",
     "text": [
      "[[1, 0, 1], [0, 0, 0], [1, 0, 1]]\n"
     ]
    }
   ],
   "source": [
    "matrix = [[1,1,1],[1,0,1],[1,1,1]]\n",
    "setZeroes(matrix)\n",
    "print(matrix)"
   ]
  },
  {
   "cell_type": "code",
   "execution_count": null,
   "id": "bad0ef27-fe45-4f3e-840a-7f0a4f946eed",
   "metadata": {},
   "outputs": [],
   "source": []
  },
  {
   "cell_type": "markdown",
   "id": "6ad1d00f-dab7-414d-8900-d8f4acebf262",
   "metadata": {},
   "source": [
    "## 54. Spiral Matrix\n",
    "\n",
    "Given an m x n matrix, return all elements of the matrix in spiral order.\n",
    "\n",
    "<img src='spiral_matrix.jpg' img/>\n",
    "\n",
    "Constraints:\n",
    "\n",
    "    m == matrix.length\n",
    "    n == matrix[i].length\n",
    "    1 <= m, n <= 10\n",
    "    -100 <= matrix[i][j] <= 100\n"
   ]
  },
  {
   "cell_type": "code",
   "execution_count": null,
   "id": "604111e7-499b-471a-8e41-f3aff7687f35",
   "metadata": {},
   "outputs": [],
   "source": [
    "def spiralOrder(matrix):\n",
    "    pass"
   ]
  },
  {
   "cell_type": "code",
   "execution_count": null,
   "id": "67fe29ac-934b-4e89-a658-dd0cf8a7fb5f",
   "metadata": {},
   "outputs": [],
   "source": []
  },
  {
   "cell_type": "markdown",
   "id": "94c8a768-d9f8-426b-947c-7db291d70bc6",
   "metadata": {},
   "source": [
    "## 48. Rotate Image\n",
    "You are given an n x n 2D matrix representing an image, rotate the image by 90 degrees (clockwise).\n",
    "\n",
    "You have to rotate the image in-place, which means you have to modify the input 2D matrix directly. DO NOT allocate another 2D matrix and do the rotation.\n",
    "\n",
    "<img src='rotate.jpg' img/>\n",
    "\n",
    "Constraints:\n",
    "\n",
    "    n == matrix.length == matrix[i].length\n",
    "    1 <= n <= 20\n",
    "    -1000 <= matrix[i][j] <= 1000\n"
   ]
  },
  {
   "cell_type": "code",
   "execution_count": 6,
   "id": "6da1e38c-1560-4a66-bfe1-733bc3401e88",
   "metadata": {},
   "outputs": [],
   "source": [
    "def rotate(matrix):\n",
    "    n = len(matrix)\n",
    "    for i in range(n):\n",
    "        for j in range(i+1, n):\n",
    "            matrix[i][j], matrix[j][i] = matrix[j][i], matrix[i][j]\n",
    "    for i in range(n):\n",
    "        matrix[i].reverse()\n",
    "    return matrix\n"
   ]
  },
  {
   "cell_type": "code",
   "execution_count": null,
   "id": "edabf018-d60d-4f9d-83d0-d1bb6522c506",
   "metadata": {},
   "outputs": [],
   "source": []
  },
  {
   "cell_type": "code",
   "execution_count": null,
   "id": "643b95cc-ed3e-4a16-950d-6bb82d95db99",
   "metadata": {},
   "outputs": [],
   "source": []
  },
  {
   "cell_type": "markdown",
   "id": "5206c0c1-4d52-4a75-91db-c7658d9130e1",
   "metadata": {},
   "source": [
    "## 79. Word Search\n",
    "Given an m x n grid of characters board and a string word, return true if word exists in the grid.\n",
    "\n",
    "The word can be constructed from letters of sequentially adjacent cells, where adjacent cells are horizontally or vertically neighboring. The same letter cell may not be used more than once.\n",
    "\n",
    "<img src='search.jpg' img/>\n",
    "\n",
    "Constraints:\n",
    "\n",
    "    m == board.length\n",
    "    n = board[i].length\n",
    "    1 <= m, n <= 6\n",
    "    1 <= word.length <= 15\n",
    "    board and word consists of only lowercase and uppercase English letters.\n",
    "\n",
    " \n",
    "\n",
    "Follow up: Could you use search pruning to make your solution faster with a larger board?"
   ]
  },
  {
   "cell_type": "code",
   "execution_count": 7,
   "id": "1f15a7f6-00ad-417f-a457-6edfd7f83fe6",
   "metadata": {},
   "outputs": [],
   "source": [
    "def exist(board, word):\n",
    "        ROWS, COLS = len(board), len(board[0])\n",
    "        path = set()\n",
    "\n",
    "        def dfs(r, c, i):\n",
    "            if i == len(word):\n",
    "                return True\n",
    "            \n",
    "            if (min(r, c) < 0 or\n",
    "                r >= ROWS or c >= COLS or\n",
    "                word[i] != board[r][c] or\n",
    "                (r, c) in path):\n",
    "                return False\n",
    "            \n",
    "            path.add((r, c))\n",
    "            res = (dfs(r + 1, c, i + 1) or\n",
    "                   dfs(r - 1, c, i + 1) or\n",
    "                   dfs(r, c + 1, i + 1) or\n",
    "                   dfs(r, c - 1, i + 1))\n",
    "            path.remove((r, c))\n",
    "            return res\n",
    "        \n",
    "        for r in range(ROWS):\n",
    "            for c in range(COLS):\n",
    "                if dfs(r, c, 0):\n",
    "                    return True\n",
    "        return False"
   ]
  },
  {
   "cell_type": "code",
   "execution_count": null,
   "id": "c8870a31-d968-4648-b8d4-0d8e005c973f",
   "metadata": {},
   "outputs": [],
   "source": []
  },
  {
   "cell_type": "markdown",
   "id": "92c6b562-d9d9-453a-ad41-dab1a1bc25b6",
   "metadata": {},
   "source": [
    "## 867. Transpose Matrix\n",
    "Given a 2D integer array matrix, return the transpose of matrix.\n",
    "\n",
    "The transpose of a matrix is the matrix flipped over its main diagonal, switching the matrix's row and column indices.\n",
    "\n",
    "<img src='transpose.jpg' img/>\n",
    "\n",
    "Example 1:\n",
    "\n",
    "Input: matrix = [[1,2,3],[4,5,6],[7,8,9]]\n",
    "\n",
    "Output: [[1,4,7],[2,5,8],[3,6,9]]\n",
    "\n",
    "Example 2:\n",
    "\n",
    "Input: matrix = [[1,2,3],[4,5,6]]\n",
    "\n",
    "Output: [[1,4],[2,5],[3,6]]\n"
   ]
  },
  {
   "cell_type": "code",
   "execution_count": 5,
   "id": "b0de81c5-e85d-41c2-b3dd-6a13f13bbbab",
   "metadata": {},
   "outputs": [],
   "source": [
    "def transpose(matrix):\n",
    "    rows, cols = len(matrix), len(matrix[0])\n",
    "    output = [[0]*rows for i in range(cols)]\n",
    "    for r in range(rows):\n",
    "        for c in range(cols):\n",
    "            output[c][r] = matrix[r][c]\n",
    "    return output\n"
   ]
  },
  {
   "cell_type": "code",
   "execution_count": null,
   "id": "d1d736a0-39c6-4ca8-99e6-795d2dc372f6",
   "metadata": {},
   "outputs": [],
   "source": []
  }
 ],
 "metadata": {
  "kernelspec": {
   "display_name": "Python 3 (ipykernel)",
   "language": "python",
   "name": "python3"
  },
  "language_info": {
   "codemirror_mode": {
    "name": "ipython",
    "version": 3
   },
   "file_extension": ".py",
   "mimetype": "text/x-python",
   "name": "python",
   "nbconvert_exporter": "python",
   "pygments_lexer": "ipython3",
   "version": "3.12.4"
  }
 },
 "nbformat": 4,
 "nbformat_minor": 5
}
