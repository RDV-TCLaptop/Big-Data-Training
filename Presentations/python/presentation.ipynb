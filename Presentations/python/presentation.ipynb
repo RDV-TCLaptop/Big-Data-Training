{
 "cells": [
  {
   "cell_type": "markdown",
   "metadata": {},
   "source": [
    "### 📝 **Sets in Python**​\n",
    "\n",
    "* Sets are **unordered collections** of **unique items**.​\n",
    "\n",
    "* Created using `{}` or `set()` constructor.​\n",
    "\n",
    "* Cannot contain **duplicate** or **mutable** elements.​\n",
    "\n",
    "* Useful for **membership tests** and **mathematical operations**.​\n",
    "\n",
    "* Operations: union (`|`), intersection (`&`), difference (`-`), symmetric difference (`^`).​"
   ]
  },
  {
   "cell_type": "code",
   "execution_count": 1,
   "metadata": {},
   "outputs": [
    {
     "name": "stdout",
     "output_type": "stream",
     "text": [
      "{'banana', 'orange', 'apple'}\n",
      "{'orange', 'mango', 'apple'}\n",
      "{3}\n",
      "{1, 2, 3, 4, 5}\n",
      "{1, 2}\n",
      "{1, 2, 4, 5}\n"
     ]
    }
   ],
   "source": [
    "# Creating a set\n",
    "fruits = {'apple', 'banana', 'orange', 'apple'}\n",
    "print(fruits)  # {'apple', 'banana', 'orange'}\n",
    "\n",
    "# Adding/removing\n",
    "fruits.add('mango')\n",
    "fruits.discard('banana')\n",
    "print(fruits)\n",
    "\n",
    "# Set operations\n",
    "li = [1, 2, 3]\n",
    "a = set(li)\n",
    "\n",
    "b = {3, 4, 5}\n",
    "print(a & b)  # Intersection: {3}\n",
    "print(a | b)  # Union: {1, 2, 3, 4, 5}\n",
    "print(a - b)  # Difference: {1, 2}\n",
    "print(a ^ b)  # Symetric Difference (XOR): {1, 2, 4, 5}\n"
   ]
  },
  {
   "cell_type": "markdown",
   "metadata": {},
   "source": [
    "### 📝 **Dictionaries in Python***​\n",
    "\n",
    "* Store data as **key\\:value pairs**.​\n",
    "\n",
    "* Keys must be **immutable**; values can be any type.​\n",
    "\n",
    "* Created using `{}` or `dict()` constructor.​\n",
    "\n",
    "* Access, update, or delete using `dict[key]`, `dict[key] = value`, or `del dict[key]`.​\n",
    "\n",
    "* Methods: `.items()`, `.keys()`, `.values()` for iteration.​"
   ]
  },
  {
   "cell_type": "code",
   "execution_count": 2,
   "metadata": {},
   "outputs": [
    {
     "name": "stdout",
     "output_type": "stream",
     "text": [
      "44\n",
      "{'HAM': 44, 'MAX': 33, 'LEC': 16}\n",
      "['HAM', 'MAX', 'LEC']\n",
      "{'HAM': 44, 'MAX': 1, 'LEC': 16}\n",
      "True\n"
     ]
    }
   ],
   "source": [
    "# Creating and using a dictionary\n",
    "IDs = {'HAM': 44, 'VET': 5}\n",
    "IDs['MAX'] = 33  # Add entry\n",
    "\n",
    "print(IDs['HAM'])   # Access value\n",
    "del IDs['VET']      # Delete entry\n",
    "IDs['LEC'] = 16     # Add new entry\n",
    "\n",
    "print(IDs)               # {'HAM': 44, 'MAX': 33, 'LEC': 16}\n",
    "print(list(IDs.keys()))  # Get keys: ['HAM', 'MAX', 'LEC']\n",
    "\n",
    "IDs['MAX'] = 1\n",
    "print(IDs)    # {'HAM': 44, 'MAX': 1, 'LEC': 16}\n",
    "\n",
    "print('LEC' in IDs)      # Check key: True"
   ]
  },
  {
   "cell_type": "markdown",
   "metadata": {},
   "source": [
    "### 📝 **Looping Techniques**​\n",
    "\n",
    "* `enumerate()` gives **index and value**.​\n",
    "\n",
    "* `zip()` allows looping over multiple sequences.​\n",
    "\n",
    "* `.items()` is used to loop over **key-value pairs** in dictionaries.​\n",
    "\n",
    "* `sorted()` returns sorted iterable (doesn’t change original).​\n",
    "\n",
    "* `reversed()` returns a reverse iterator over a sequence.​"
   ]
  },
  {
   "cell_type": "code",
   "execution_count": 3,
   "metadata": {},
   "outputs": [
    {
     "name": "stdout",
     "output_type": "stream",
     "text": [
      "Way 1: Using enumerate()\n",
      "0 apple\n",
      "1 banana\n",
      "2 cherry\n"
     ]
    }
   ],
   "source": [
    "# Way 1: Using enumerate()\n",
    "print(\"Way 1: Using enumerate()\")\n",
    "fruits = ['apple', 'banana', 'cherry']\n",
    "for index, fruit in enumerate(fruits):\n",
    "    print(index, fruit)"
   ]
  },
  {
   "cell_type": "code",
   "execution_count": 4,
   "metadata": {},
   "outputs": [
    {
     "name": "stdout",
     "output_type": "stream",
     "text": [
      "Way 2: Using zip()\n",
      "Alice scored 85\n",
      "Bob scored 92\n",
      "Charlie scored 78\n"
     ]
    }
   ],
   "source": [
    "# Way 2: Using zip()\n",
    "print(\"Way 2: Using zip()\")\n",
    "names = ['Alice', 'Bob', 'Charlie']\n",
    "scores = [85, 92, 78]\n",
    "for name, score in zip(names, scores):\n",
    "    print(f\"{name} scored {score}\")"
   ]
  },
  {
   "cell_type": "code",
   "execution_count": 5,
   "metadata": {},
   "outputs": [
    {
     "name": "stdout",
     "output_type": "stream",
     "text": [
      "Way 3: Using iteritems() - Python 2 only (not valid in Python 3)\n",
      "\n",
      "Way 4: Using items()\n",
      "Key: a, Value: 1\n",
      "Key: b, Value: 2\n"
     ]
    }
   ],
   "source": [
    "# Way 3: Using iteritems() – Python 2 only (for reference)\n",
    "print(\"Way 3: Using iteritems() - Python 2 only (not valid in Python 3)\\n\")\n",
    "# my_dict = {'a': 1, 'b': 2}\n",
    "# for key, value in my_dict.iteritems():  # Uncomment only in Python 2\n",
    "#     print(key, value)\n",
    "\n",
    "# Way 4: Using items()\n",
    "print(\"Way 4: Using items()\")\n",
    "my_dict = {'a': 1, 'b': 2}\n",
    "for key, value in my_dict.items():\n",
    "    print(f\"Key: {key}, Value: {value}\")"
   ]
  },
  {
   "cell_type": "code",
   "execution_count": 6,
   "metadata": {},
   "outputs": [
    {
     "name": "stdout",
     "output_type": "stream",
     "text": [
      "Way 5: Using sorted()\n",
      "Alice: 85\n",
      "Bob: 92\n",
      "Charlie: 78\n"
     ]
    }
   ],
   "source": [
    "# Way 5: Using sorted()\n",
    "print(\"Way 5: Using sorted()\")\n",
    "score_dict = {'Bob': 92, 'Alice': 85, 'Charlie': 78}\n",
    "for name in sorted(score_dict):\n",
    "    print(f\"{name}: {score_dict[name]}\")"
   ]
  },
  {
   "cell_type": "code",
   "execution_count": 7,
   "metadata": {},
   "outputs": [
    {
     "name": "stdout",
     "output_type": "stream",
     "text": [
      "Way 6: Using reversed()\n",
      "5 4 3 2 1 "
     ]
    }
   ],
   "source": [
    "# Way 6: Using reversed()\n",
    "print(\"Way 6: Using reversed()\")\n",
    "nums = [1, 2, 3, 4, 5]\n",
    "for num in reversed(nums):\n",
    "    print(num, end=\" \")\n"
   ]
  },
  {
   "cell_type": "markdown",
   "metadata": {},
   "source": [
    "### 📝 **More on Conditions**​\n",
    "\n",
    "* `in`, `not in`: test **membership** in a container.​\n",
    "\n",
    "* `is`, `is not`: test **object identity**, not value.​\n",
    "\n",
    "* Use `and`, `or`, `not` for combining conditions.​\n",
    "\n",
    "* Supports **chained comparisons** (e.g. `a < b == c`).​\n",
    "\n",
    "* `and`, `or` are **short-circuit operators** (stop evaluating early).​"
   ]
  },
  {
   "cell_type": "code",
   "execution_count": 8,
   "metadata": {},
   "outputs": [
    {
     "name": "stdout",
     "output_type": "stream",
     "text": [
      "True\n",
      "Trondheim\n",
      "True\n",
      "True\n"
     ]
    }
   ],
   "source": [
    "a, b, c = 3, 5, 5\n",
    "\n",
    "print(a < b == c)  # True (a < b and b == c)\n",
    "\n",
    "# Boolean short-circuit\n",
    "string1, string2, string3 = '', 'Trondheim', 'Hammer Dance'\n",
    "non_null = string1 or string2 or string3\n",
    "print(non_null)  # Trondheim\n",
    "\n",
    "# Membership and identity\n",
    "# This is a condition that is used to check if a value is in a list/tuple/string/etc or not.\n",
    "colors = ['red', 'blue']\n",
    "print('red' in colors)          # True\n",
    "print(colors is not ['red'])    # True (different objects)\n"
   ]
  },
  {
   "cell_type": "markdown",
   "metadata": {},
   "source": [
    "### 📝 **Comparing Sequences and Types**​\n",
    "\n",
    "* Uses **lexicographical order**: compares left to right.​\n",
    "\n",
    "* Tuples, lists, and strings are comparable **within the same type**.​\n",
    "\n",
    "* Python 3 **disallows cross-type** comparisons like `list < str`.​\n",
    "\n",
    "* Numeric types are comparable: `1 == 1.0` is `True`.​\n",
    "\n",
    "* Shorter sequence is considered smaller if all compared items are equal.​"
   ]
  },
  {
   "cell_type": "code",
   "execution_count": 9,
   "metadata": {},
   "outputs": [
    {
     "name": "stdout",
     "output_type": "stream",
     "text": [
      "True\n",
      "True\n",
      "True\n",
      "True\n",
      "True\n",
      "True\n",
      "True\n"
     ]
    }
   ],
   "source": [
    "# Sequence comparison (lexicographical)\n",
    "print((1, 2, 3) < (1, 2, 4))         # True\n",
    "print([1, 2, 3] < [1, 2, 4])         # True\n",
    "print([1, 2, 3] < [1, 2, 4])         # True\n",
    "print('ABC' < 'C' < 'Pascal')        # True\n",
    "\n",
    "# Subsequence rule\n",
    "print((1, 2) < (1, 2, -1))           # True\n",
    "\n",
    "# Mixed numeric types\n",
    "print((1, 2, 3) == (1.0, 2.0, 3.0))  # True\n",
    "\n",
    "# Nested sequences\n",
    "print((1, 2, ('aa', 'ab')) < (1, 2, ('abc', 'a'), 4))  # True\n"
   ]
  },
  {
   "cell_type": "markdown",
   "metadata": {},
   "source": [
    "### 📝 **Modules**\n",
    "\n",
    "​See the fibonacci.py file to see the module.\n",
    "\n",
    "* A module is a `.py` file containing **functions, classes, and variables**.​\n",
    "\n",
    "* Use `import module_name` to reuse functions.​\n",
    "\n",
    "* You can import specific items: `from module import func`.​\n",
    "\n",
    "* Module name is stored in `__name__`.​\n",
    "\n",
    "* First-time imports run **initialization code** (like global vars or setup logic).​"
   ]
  },
  {
   "cell_type": "markdown",
   "metadata": {},
   "source": [
    "##### Ways to import"
   ]
  },
  {
   "cell_type": "code",
   "execution_count": 10,
   "metadata": {},
   "outputs": [
    {
     "name": "stdout",
     "output_type": "stream",
     "text": [
      "1 1 2 3 5 8 13 21 34 55 89 144 233 377 610 987 [1, 1, 2, 3, 5, 8, 13, 21, 34, 55, 89]\n"
     ]
    }
   ],
   "source": [
    "# Import entire module\n",
    "import fibonacci as fib\n",
    "fib.fibonacci_write(1000)\n",
    "print(fib.fibonacci_return(100))\n"
   ]
  },
  {
   "cell_type": "code",
   "execution_count": 11,
   "metadata": {},
   "outputs": [
    {
     "name": "stdout",
     "output_type": "stream",
     "text": [
      "1 1 2 3 5 8 13 21 34 55 89 144 233 377 "
     ]
    }
   ],
   "source": [
    "# Import specific functions\n",
    "from fibonacci import fibonacci_write, fibonacci_return\n",
    "fibonacci_write(500)"
   ]
  },
  {
   "cell_type": "code",
   "execution_count": 12,
   "metadata": {},
   "outputs": [],
   "source": [
    "# Import all names\n",
    "from fibonacci import *"
   ]
  },
  {
   "cell_type": "markdown",
   "metadata": {},
   "source": [
    "#### Accessing Module Metadata\n",
    "We can access metadata about the module. \n",
    "When you import or run a Python module, you can access certain built-in attributes that describe it. These include:\n",
    "- \\_\\_name__\n",
    "- \\_\\_file__\n",
    "- \\_\\_doc__\n",
    "- \\_\\_package__"
   ]
  },
  {
   "cell_type": "code",
   "execution_count": 13,
   "metadata": {},
   "outputs": [
    {
     "name": "stdout",
     "output_type": "stream",
     "text": [
      "fibonacci\n",
      "c:\\Users\\Rudram Vyas\\Desktop\\Training\\Presentations\\python\\fibonacci.py\n"
     ]
    }
   ],
   "source": [
    "import fibonacci\n",
    "print(fibonacci.__name__)  # 'fibonacci'\n",
    "print(fibonacci.__file__)  # 'File path'\n"
   ]
  }
 ],
 "metadata": {
  "kernelspec": {
   "display_name": "Python 3",
   "language": "python",
   "name": "python3"
  },
  "language_info": {
   "codemirror_mode": {
    "name": "ipython",
    "version": 3
   },
   "file_extension": ".py",
   "mimetype": "text/x-python",
   "name": "python",
   "nbconvert_exporter": "python",
   "pygments_lexer": "ipython3",
   "version": "3.13.3"
  }
 },
 "nbformat": 4,
 "nbformat_minor": 2
}
