{
 "cells": [
  {
   "cell_type": "markdown",
   "id": "8d9ccad6",
   "metadata": {},
   "source": [
    "## Pyton Notebook\n",
    "#### Testing and Installing"
   ]
  },
  {
   "cell_type": "code",
   "execution_count": 2,
   "id": "fabfbec4",
   "metadata": {},
   "outputs": [
    {
     "name": "stdout",
     "output_type": "stream",
     "text": [
      "~~~~ Hello! ~~~~\n"
     ]
    }
   ],
   "source": [
    "print(\"~~~~ Hello! ~~~~\")"
   ]
  },
  {
   "cell_type": "markdown",
   "id": "9abe134e",
   "metadata": {},
   "source": [
    "#### Python for data (pandas, matplotlib, etc..)"
   ]
  },
  {
   "cell_type": "code",
   "execution_count": 8,
   "id": "c285776e",
   "metadata": {},
   "outputs": [],
   "source": [
    "import pandas as pd"
   ]
  },
  {
   "cell_type": "code",
   "execution_count": 9,
   "id": "2ace4131",
   "metadata": {},
   "outputs": [
    {
     "name": "stdout",
     "output_type": "stream",
     "text": [
      "Hello again!\n"
     ]
    }
   ],
   "source": [
    "print(\"Hello again!\")"
   ]
  }
 ],
 "metadata": {
  "kernelspec": {
   "display_name": "Python 3",
   "language": "python",
   "name": "python3"
  },
  "language_info": {
   "codemirror_mode": {
    "name": "ipython",
    "version": 3
   },
   "file_extension": ".py",
   "mimetype": "text/x-python",
   "name": "python",
   "nbconvert_exporter": "python",
   "pygments_lexer": "ipython3",
   "version": "3.13.3"
  }
 },
 "nbformat": 4,
 "nbformat_minor": 5
}
