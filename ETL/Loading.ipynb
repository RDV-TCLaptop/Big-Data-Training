{
 "cells": [
  {
   "cell_type": "markdown",
   "id": "e7a5badb",
   "metadata": {},
   "source": [
    "# Loading Data"
   ]
  },
  {
   "cell_type": "code",
   "execution_count": null,
   "id": "bf2abacb",
   "metadata": {},
   "outputs": [],
   "source": [
    "import pandas as pd\n",
    "from sqlalchemy import create_engine\n",
    "from urllib.parse import quote_plus\n",
    "\n",
    "user = 'consultants'\n",
    "raw_password = 'WelcomeItc@2022'\n",
    "password = quote_plus(raw_password)\n",
    "host = '18.170.23.150'\n",
    "port = 5432\n",
    "database = 'testdb'\n",
    "\n",
    "engine = create_engine(f\"postgresql://{user}:{password}@{host}:{port}/{database}\")"
   ]
  },
  {
   "cell_type": "markdown",
   "id": "afa10e62",
   "metadata": {},
   "source": [
    "## Full Load"
   ]
  },
  {
   "cell_type": "code",
   "execution_count": null,
   "id": "0180c310",
   "metadata": {},
   "outputs": [
    {
     "data": {
      "text/plain": [
       "500"
      ]
     },
     "execution_count": 9,
     "metadata": {},
     "output_type": "execute_result"
    }
   ],
   "source": [
    "file = \"./Data/full_load.csv\"\n",
    "\n",
    "df = pd.read_csv(file)\n",
    "\n",
    "df.to_sql('rdv_employee', engine, if_exists='replace', index=False)"
   ]
  },
  {
   "cell_type": "markdown",
   "id": "dafeef7e",
   "metadata": {},
   "source": [
    "## Incremental Load"
   ]
  },
  {
   "cell_type": "code",
   "execution_count": null,
   "id": "063ab7c4",
   "metadata": {},
   "outputs": [
    {
     "data": {
      "text/plain": [
       "1000"
      ]
     },
     "execution_count": 10,
     "metadata": {},
     "output_type": "execute_result"
    }
   ],
   "source": [
    "file = \"./Data/inc_load.csv\"\n",
    "\n",
    "df = pd.read_csv(file)\n",
    "\n",
    "df.to_sql('rdv_employee', engine, if_exists='append', index=False)"
   ]
  }
 ],
 "metadata": {
  "kernelspec": {
   "display_name": "Python 3",
   "language": "python",
   "name": "python3"
  },
  "language_info": {
   "codemirror_mode": {
    "name": "ipython",
    "version": 3
   },
   "file_extension": ".py",
   "mimetype": "text/x-python",
   "name": "python",
   "nbconvert_exporter": "python",
   "pygments_lexer": "ipython3",
   "version": "3.13.3"
  }
 },
 "nbformat": 4,
 "nbformat_minor": 5
}
